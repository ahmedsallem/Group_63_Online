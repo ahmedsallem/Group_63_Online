{
 "cells": [
  {
   "cell_type": "markdown",
   "id": "8e2b6465",
   "metadata": {},
   "source": [
    "# type here"
   ]
  },
  {
   "cell_type": "code",
   "execution_count": 12,
   "id": "5739cfd3",
   "metadata": {},
   "outputs": [],
   "source": [
    "# # comment\n",
    " \n",
    " \n"
   ]
  },
  {
   "cell_type": "code",
   "execution_count": 24,
   "id": "685a0a41",
   "metadata": {},
   "outputs": [
    {
     "data": {
      "text/plain": [
       "1378731295024"
      ]
     },
     "execution_count": 24,
     "metadata": {},
     "output_type": "execute_result"
    }
   ],
   "source": [
    "x = 3 \n",
    "id(x) "
   ]
  },
  {
   "cell_type": "code",
   "execution_count": 26,
   "id": "fb12ebf5",
   "metadata": {},
   "outputs": [
    {
     "data": {
      "text/plain": [
       "1378731295056"
      ]
     },
     "execution_count": 26,
     "metadata": {},
     "output_type": "execute_result"
    }
   ],
   "source": [
    "x = 4\n",
    "id(x)"
   ]
  },
  {
   "cell_type": "code",
   "execution_count": 27,
   "id": "0e802aff",
   "metadata": {},
   "outputs": [
    {
     "data": {
      "text/plain": [
       "4"
      ]
     },
     "execution_count": 27,
     "metadata": {},
     "output_type": "execute_result"
    }
   ],
   "source": [
    "x "
   ]
  },
  {
   "cell_type": "code",
   "execution_count": 29,
   "id": "9aad0eeb",
   "metadata": {},
   "outputs": [
    {
     "data": {
      "text/plain": [
       "int"
      ]
     },
     "execution_count": 29,
     "metadata": {},
     "output_type": "execute_result"
    }
   ],
   "source": [
    "# int\n",
    "x = -10 \n",
    "y = 20 \n",
    "z = 30 \n",
    "type(x)"
   ]
  },
  {
   "cell_type": "code",
   "execution_count": 30,
   "id": "2ade0d88",
   "metadata": {},
   "outputs": [
    {
     "data": {
      "text/plain": [
       "float"
      ]
     },
     "execution_count": 30,
     "metadata": {},
     "output_type": "execute_result"
    }
   ],
   "source": [
    "# float \n",
    "x = -10.0 \n",
    "y = 20.5\n",
    "z = 30.2 \n",
    "type(y)"
   ]
  },
  {
   "cell_type": "code",
   "execution_count": 40,
   "id": "6d8cb130",
   "metadata": {},
   "outputs": [
    {
     "data": {
      "text/plain": [
       "bool"
      ]
     },
     "execution_count": 40,
     "metadata": {},
     "output_type": "execute_result"
    }
   ],
   "source": [
    "# bool\n",
    "x = True    # 1\n",
    "y = False   # 0\n",
    "type(x)"
   ]
  },
  {
   "cell_type": "code",
   "execution_count": 41,
   "id": "1ddc203d",
   "metadata": {},
   "outputs": [
    {
     "data": {
      "text/plain": [
       "1"
      ]
     },
     "execution_count": 41,
     "metadata": {},
     "output_type": "execute_result"
    }
   ],
   "source": [
    "x + y "
   ]
  },
  {
   "cell_type": "code",
   "execution_count": 50,
   "id": "29655ffe",
   "metadata": {},
   "outputs": [],
   "source": [
    "# str\n",
    "x = 'amit_learning'\n",
    "x = 'my name is \"ahmed\"'\n",
    "# x = \"\"\"amit_learning amit_learning\"\"\""
   ]
  },
  {
   "cell_type": "code",
   "execution_count": 49,
   "id": "bc76142c",
   "metadata": {},
   "outputs": [
    {
     "data": {
      "text/plain": [
       "'my name is \"ahmed\"'"
      ]
     },
     "execution_count": 49,
     "metadata": {},
     "output_type": "execute_result"
    }
   ],
   "source": [
    "x"
   ]
  },
  {
   "cell_type": "code",
   "execution_count": 51,
   "id": "03dfe295",
   "metadata": {},
   "outputs": [
    {
     "name": "stdout",
     "output_type": "stream",
     "text": [
      "my name is \"ahmed\"\n"
     ]
    }
   ],
   "source": [
    "print(x)"
   ]
  },
  {
   "cell_type": "code",
   "execution_count": 54,
   "id": "4cde0d7d",
   "metadata": {},
   "outputs": [
    {
     "name": "stdout",
     "output_type": "stream",
     "text": [
      "my name is ahmed\n"
     ]
    }
   ],
   "source": [
    "print(\"my name is ahmed\")"
   ]
  },
  {
   "cell_type": "code",
   "execution_count": 55,
   "id": "91bbd24a",
   "metadata": {},
   "outputs": [],
   "source": [
    "x = \"my name is ahmed\"\n",
    "     012              -1"
   ]
  },
  {
   "cell_type": "code",
   "execution_count": 65,
   "id": "eb4bcfc8",
   "metadata": {},
   "outputs": [
    {
     "data": {
      "text/plain": [
       "'d'"
      ]
     },
     "execution_count": 65,
     "metadata": {},
     "output_type": "execute_result"
    }
   ],
   "source": [
    "x[-1] # indexing"
   ]
  },
  {
   "cell_type": "code",
   "execution_count": 70,
   "id": "32cda503",
   "metadata": {},
   "outputs": [
    {
     "data": {
      "text/plain": [
       "'m aei he'"
      ]
     },
     "execution_count": 70,
     "metadata": {},
     "output_type": "execute_result"
    }
   ],
   "source": [
    "# x[start : end : step]\n",
    "#       0 :       : 1   \n",
    "x[0: :2]"
   ]
  },
  {
   "cell_type": "code",
   "execution_count": 71,
   "id": "96236cbf",
   "metadata": {},
   "outputs": [
    {
     "data": {
      "text/plain": [
       "'my name is ahmed'"
      ]
     },
     "execution_count": 71,
     "metadata": {},
     "output_type": "execute_result"
    }
   ],
   "source": [
    "x[ : : ]"
   ]
  },
  {
   "cell_type": "code",
   "execution_count": 74,
   "id": "e54f2855",
   "metadata": {},
   "outputs": [
    {
     "data": {
      "text/plain": [
       "'demha si eman ym'"
      ]
     },
     "execution_count": 74,
     "metadata": {},
     "output_type": "execute_result"
    }
   ],
   "source": [
    "x[ : : -1] "
   ]
  },
  {
   "cell_type": "code",
   "execution_count": 76,
   "id": "d68e47ea",
   "metadata": {},
   "outputs": [
    {
     "data": {
      "text/plain": [
       "'86'"
      ]
     },
     "execution_count": 76,
     "metadata": {},
     "output_type": "execute_result"
    }
   ],
   "source": [
    "x = '0123456789'\n",
    "x[-2:-6:-2]"
   ]
  },
  {
   "cell_type": "code",
   "execution_count": 77,
   "id": "75b3c321",
   "metadata": {},
   "outputs": [],
   "source": [
    "x = 10\n",
    "y = 1.0\n"
   ]
  },
  {
   "cell_type": "code",
   "execution_count": 78,
   "id": "124e0f2d",
   "metadata": {},
   "outputs": [],
   "source": [
    "# bool\n",
    "x = True\n",
    "y = False"
   ]
  },
  {
   "cell_type": "code",
   "execution_count": 79,
   "id": "1987e51f",
   "metadata": {},
   "outputs": [],
   "source": [
    "x = 'amit'\n",
    "y = \"amit\"\n",
    "z = \"\"\"amit\n",
    "        learning\n",
    "    \"\"\""
   ]
  },
  {
   "cell_type": "code",
   "execution_count": 80,
   "id": "7c282092",
   "metadata": {},
   "outputs": [
    {
     "data": {
      "text/plain": [
       "str"
      ]
     },
     "execution_count": 80,
     "metadata": {},
     "output_type": "execute_result"
    }
   ],
   "source": [
    "type(x)"
   ]
  },
  {
   "cell_type": "code",
   "execution_count": 81,
   "id": "6b5c5ddb",
   "metadata": {},
   "outputs": [
    {
     "data": {
      "text/plain": [
       "int"
      ]
     },
     "execution_count": 81,
     "metadata": {},
     "output_type": "execute_result"
    }
   ],
   "source": [
    "x = 10\n",
    "type(x)"
   ]
  },
  {
   "cell_type": "code",
   "execution_count": 83,
   "id": "f4007687",
   "metadata": {},
   "outputs": [
    {
     "data": {
      "text/plain": [
       "float"
      ]
     },
     "execution_count": 83,
     "metadata": {},
     "output_type": "execute_result"
    }
   ],
   "source": [
    "y = float(x)\n",
    "type(y)"
   ]
  },
  {
   "cell_type": "code",
   "execution_count": 84,
   "id": "c4969343",
   "metadata": {},
   "outputs": [
    {
     "name": "stdout",
     "output_type": "stream",
     "text": [
      "10\n"
     ]
    }
   ],
   "source": [
    "z = int(y)\n",
    "print(z)"
   ]
  },
  {
   "cell_type": "code",
   "execution_count": 85,
   "id": "f8e621ea",
   "metadata": {},
   "outputs": [
    {
     "data": {
      "text/plain": [
       "int"
      ]
     },
     "execution_count": 85,
     "metadata": {},
     "output_type": "execute_result"
    }
   ],
   "source": [
    "type(z)"
   ]
  },
  {
   "cell_type": "code",
   "execution_count": 86,
   "id": "2d8e871e",
   "metadata": {},
   "outputs": [],
   "source": [
    "x = \"Amit Learning\""
   ]
  },
  {
   "cell_type": "code",
   "execution_count": 88,
   "id": "e41cb523",
   "metadata": {},
   "outputs": [
    {
     "data": {
      "text/plain": [
       "('A', 'g')"
      ]
     },
     "execution_count": 88,
     "metadata": {},
     "output_type": "execute_result"
    }
   ],
   "source": [
    "x[0] , x[-1]"
   ]
  },
  {
   "cell_type": "code",
   "execution_count": 90,
   "id": "9722ece4",
   "metadata": {},
   "outputs": [
    {
     "data": {
      "text/plain": [
       "'Amit'"
      ]
     },
     "execution_count": 90,
     "metadata": {},
     "output_type": "execute_result"
    }
   ],
   "source": [
    "x[0:4]"
   ]
  },
  {
   "cell_type": "code",
   "execution_count": 94,
   "id": "d9e706aa",
   "metadata": {},
   "outputs": [],
   "source": [
    "x = x.upper()"
   ]
  },
  {
   "cell_type": "code",
   "execution_count": 95,
   "id": "f646974d",
   "metadata": {},
   "outputs": [
    {
     "data": {
      "text/plain": [
       "'AMIT LEARNING'"
      ]
     },
     "execution_count": 95,
     "metadata": {},
     "output_type": "execute_result"
    }
   ],
   "source": [
    "x"
   ]
  },
  {
   "cell_type": "code",
   "execution_count": 98,
   "id": "c178a4f5",
   "metadata": {},
   "outputs": [],
   "source": [
    "x = x.lower()"
   ]
  },
  {
   "cell_type": "code",
   "execution_count": 99,
   "id": "def005a9",
   "metadata": {},
   "outputs": [
    {
     "data": {
      "text/plain": [
       "'amit learning'"
      ]
     },
     "execution_count": 99,
     "metadata": {},
     "output_type": "execute_result"
    }
   ],
   "source": [
    "x"
   ]
  },
  {
   "cell_type": "code",
   "execution_count": 100,
   "id": "72998dc6",
   "metadata": {},
   "outputs": [],
   "source": [
    "x = \"      amit learning \\t\""
   ]
  },
  {
   "cell_type": "code",
   "execution_count": 101,
   "id": "478e24de",
   "metadata": {},
   "outputs": [
    {
     "name": "stdout",
     "output_type": "stream",
     "text": [
      "      amit learning \t\n"
     ]
    }
   ],
   "source": [
    "print(x)"
   ]
  },
  {
   "cell_type": "code",
   "execution_count": 104,
   "id": "5b833504",
   "metadata": {},
   "outputs": [],
   "source": [
    "x  = x.strip()"
   ]
  },
  {
   "cell_type": "code",
   "execution_count": 105,
   "id": "b1a7aae8",
   "metadata": {},
   "outputs": [
    {
     "data": {
      "text/plain": [
       "'amit learning'"
      ]
     },
     "execution_count": 105,
     "metadata": {},
     "output_type": "execute_result"
    }
   ],
   "source": [
    "x"
   ]
  },
  {
   "cell_type": "code",
   "execution_count": 107,
   "id": "4adf8206",
   "metadata": {},
   "outputs": [],
   "source": [
    "x = x.title()"
   ]
  },
  {
   "cell_type": "code",
   "execution_count": 108,
   "id": "82049e59",
   "metadata": {},
   "outputs": [
    {
     "data": {
      "text/plain": [
       "'Amit Learning'"
      ]
     },
     "execution_count": 108,
     "metadata": {},
     "output_type": "execute_result"
    }
   ],
   "source": [
    "x"
   ]
  },
  {
   "cell_type": "code",
   "execution_count": 109,
   "id": "2a068730",
   "metadata": {},
   "outputs": [],
   "source": [
    "name = \"ahmed\"\n",
    "age = 30"
   ]
  },
  {
   "cell_type": "code",
   "execution_count": 113,
   "id": "668ff539",
   "metadata": {},
   "outputs": [
    {
     "name": "stdout",
     "output_type": "stream",
     "text": [
      "my name is  ahmed , and my age is  30\n"
     ]
    }
   ],
   "source": [
    "print(\"my name is \",name,\", and my age is \" , age)"
   ]
  },
  {
   "cell_type": "code",
   "execution_count": 120,
   "id": "550d72fe",
   "metadata": {},
   "outputs": [
    {
     "name": "stdout",
     "output_type": "stream",
     "text": [
      "my name is ahmed, and my age is 30\n"
     ]
    }
   ],
   "source": [
    "print(\"my name is {}, and my age is {}\".format(name , age))"
   ]
  },
  {
   "cell_type": "code",
   "execution_count": 121,
   "id": "1c10acd2",
   "metadata": {},
   "outputs": [
    {
     "name": "stdout",
     "output_type": "stream",
     "text": [
      "my name is ahmed, and my age is 30\n"
     ]
    }
   ],
   "source": [
    "print(f\"my name is {name}, and my age is {age}\")"
   ]
  },
  {
   "cell_type": "code",
   "execution_count": 124,
   "id": "2992feaa",
   "metadata": {},
   "outputs": [
    {
     "name": "stdout",
     "output_type": "stream",
     "text": [
      "enter your name ahmed\n"
     ]
    }
   ],
   "source": [
    "name = input(\"enter your name \")"
   ]
  },
  {
   "cell_type": "code",
   "execution_count": 125,
   "id": "c3976080",
   "metadata": {},
   "outputs": [
    {
     "data": {
      "text/plain": [
       "'ahmed'"
      ]
     },
     "execution_count": 125,
     "metadata": {},
     "output_type": "execute_result"
    }
   ],
   "source": [
    "name\n",
    "age\n",
    "address\n",
    "gender\n",
    "print(\"\")"
   ]
  },
  {
   "cell_type": "code",
   "execution_count": 126,
   "id": "70f2cc31",
   "metadata": {},
   "outputs": [
    {
     "name": "stdout",
     "output_type": "stream",
     "text": [
      "enter your age 30\n"
     ]
    }
   ],
   "source": [
    "age = input(\"enter your age \")"
   ]
  },
  {
   "cell_type": "code",
   "execution_count": 129,
   "id": "d99abb08",
   "metadata": {},
   "outputs": [
    {
     "data": {
      "text/plain": [
       "str"
      ]
     },
     "execution_count": 129,
     "metadata": {},
     "output_type": "execute_result"
    }
   ],
   "source": [
    "type(age)"
   ]
  },
  {
   "cell_type": "code",
   "execution_count": 130,
   "id": "1b2dcf2b",
   "metadata": {},
   "outputs": [
    {
     "name": "stdout",
     "output_type": "stream",
     "text": [
      "enter your age 20\n"
     ]
    }
   ],
   "source": [
    "age = float(input(\"enter your age \"))"
   ]
  },
  {
   "cell_type": "code",
   "execution_count": 131,
   "id": "85e5f705",
   "metadata": {},
   "outputs": [
    {
     "data": {
      "text/plain": [
       "20"
      ]
     },
     "execution_count": 131,
     "metadata": {},
     "output_type": "execute_result"
    }
   ],
   "source": [
    "age"
   ]
  },
  {
   "cell_type": "code",
   "execution_count": 132,
   "id": "f9d0f282",
   "metadata": {},
   "outputs": [
    {
     "data": {
      "text/plain": [
       "int"
      ]
     },
     "execution_count": 132,
     "metadata": {},
     "output_type": "execute_result"
    }
   ],
   "source": [
    "type(age)"
   ]
  },
  {
   "cell_type": "code",
   "execution_count": 134,
   "id": "6a116e9e",
   "metadata": {},
   "outputs": [
    {
     "name": "stdout",
     "output_type": "stream",
     "text": [
      "enter your name ahmed\n",
      "enter your age 30\n",
      "enter your address q\n",
      "enter your gender m\n",
      "name ahmed ,age 30 ,address q ,gender m \n"
     ]
    }
   ],
   "source": [
    "name = input(\"enter your name \")\n",
    "age = int(input(\"enter your age \"))\n",
    "address = input(\"enter your address \")\n",
    "gender = input(\"enter your gender \")\n",
    "print(f\"name {name} ,age {age} ,address {address} ,gender {gender} \")"
   ]
  },
  {
   "cell_type": "code",
   "execution_count": 135,
   "id": "911d7c63",
   "metadata": {},
   "outputs": [],
   "source": [
    "x = 10 \n",
    "y = 3"
   ]
  },
  {
   "cell_type": "code",
   "execution_count": 136,
   "id": "3baa61ac",
   "metadata": {},
   "outputs": [
    {
     "data": {
      "text/plain": [
       "13"
      ]
     },
     "execution_count": 136,
     "metadata": {},
     "output_type": "execute_result"
    }
   ],
   "source": [
    "x + y "
   ]
  },
  {
   "cell_type": "code",
   "execution_count": 137,
   "id": "63372c64",
   "metadata": {},
   "outputs": [
    {
     "data": {
      "text/plain": [
       "7"
      ]
     },
     "execution_count": 137,
     "metadata": {},
     "output_type": "execute_result"
    }
   ],
   "source": [
    "x - y "
   ]
  },
  {
   "cell_type": "code",
   "execution_count": 138,
   "id": "f2699913",
   "metadata": {},
   "outputs": [
    {
     "data": {
      "text/plain": [
       "30"
      ]
     },
     "execution_count": 138,
     "metadata": {},
     "output_type": "execute_result"
    }
   ],
   "source": [
    "x * y "
   ]
  },
  {
   "cell_type": "code",
   "execution_count": 139,
   "id": "63ded675",
   "metadata": {},
   "outputs": [
    {
     "data": {
      "text/plain": [
       "3.3333333333333335"
      ]
     },
     "execution_count": 139,
     "metadata": {},
     "output_type": "execute_result"
    }
   ],
   "source": [
    "x / y"
   ]
  },
  {
   "cell_type": "code",
   "execution_count": 141,
   "id": "7c598efe",
   "metadata": {},
   "outputs": [
    {
     "data": {
      "text/plain": [
       "3"
      ]
     },
     "execution_count": 141,
     "metadata": {},
     "output_type": "execute_result"
    }
   ],
   "source": [
    "int(x/y)"
   ]
  },
  {
   "cell_type": "code",
   "execution_count": 140,
   "id": "e51465f1",
   "metadata": {},
   "outputs": [
    {
     "data": {
      "text/plain": [
       "3"
      ]
     },
     "execution_count": 140,
     "metadata": {},
     "output_type": "execute_result"
    }
   ],
   "source": [
    "x // y"
   ]
  },
  {
   "cell_type": "code",
   "execution_count": 142,
   "id": "8ccdfa22",
   "metadata": {},
   "outputs": [
    {
     "data": {
      "text/plain": [
       "1"
      ]
     },
     "execution_count": 142,
     "metadata": {},
     "output_type": "execute_result"
    }
   ],
   "source": [
    "x % y "
   ]
  },
  {
   "cell_type": "code",
   "execution_count": 143,
   "id": "765c20e4",
   "metadata": {},
   "outputs": [
    {
     "data": {
      "text/plain": [
       "False"
      ]
     },
     "execution_count": 143,
     "metadata": {},
     "output_type": "execute_result"
    }
   ],
   "source": [
    "# 1,3,5,7,9  odd\n",
    "# 2,4,6,8,10 even\n",
    "9 %  2 == 0"
   ]
  },
  {
   "cell_type": "code",
   "execution_count": 144,
   "id": "a5ceceb9",
   "metadata": {},
   "outputs": [
    {
     "data": {
      "text/plain": [
       "1000"
      ]
     },
     "execution_count": 144,
     "metadata": {},
     "output_type": "execute_result"
    }
   ],
   "source": [
    "pow(x,y)"
   ]
  },
  {
   "cell_type": "code",
   "execution_count": 145,
   "id": "54e2f0de",
   "metadata": {},
   "outputs": [
    {
     "data": {
      "text/plain": [
       "1000"
      ]
     },
     "execution_count": 145,
     "metadata": {},
     "output_type": "execute_result"
    }
   ],
   "source": [
    "x ** y    # 10 power 3 10^3"
   ]
  },
  {
   "cell_type": "code",
   "execution_count": 146,
   "id": "e1e6dbd5",
   "metadata": {},
   "outputs": [],
   "source": [
    "#  + - * / ** // operators  x , y operand"
   ]
  },
  {
   "cell_type": "code",
   "execution_count": 148,
   "id": "22398277",
   "metadata": {},
   "outputs": [
    {
     "data": {
      "text/plain": [
       "False"
      ]
     },
     "execution_count": 148,
     "metadata": {},
     "output_type": "execute_result"
    }
   ],
   "source": [
    "m = 30\n",
    "s = 29\n",
    "m == s"
   ]
  },
  {
   "cell_type": "code",
   "execution_count": 149,
   "id": "a0206c89",
   "metadata": {},
   "outputs": [
    {
     "data": {
      "text/plain": [
       "True"
      ]
     },
     "execution_count": 149,
     "metadata": {},
     "output_type": "execute_result"
    }
   ],
   "source": [
    "m > s "
   ]
  },
  {
   "cell_type": "code",
   "execution_count": 150,
   "id": "fb564482",
   "metadata": {},
   "outputs": [
    {
     "data": {
      "text/plain": [
       "False"
      ]
     },
     "execution_count": 150,
     "metadata": {},
     "output_type": "execute_result"
    }
   ],
   "source": [
    "s > m "
   ]
  },
  {
   "cell_type": "code",
   "execution_count": 151,
   "id": "f8d5db09",
   "metadata": {},
   "outputs": [
    {
     "data": {
      "text/plain": [
       "True"
      ]
     },
     "execution_count": 151,
     "metadata": {},
     "output_type": "execute_result"
    }
   ],
   "source": [
    "s < m "
   ]
  },
  {
   "cell_type": "code",
   "execution_count": 152,
   "id": "38f22c85",
   "metadata": {},
   "outputs": [
    {
     "data": {
      "text/plain": [
       "True"
      ]
     },
     "execution_count": 152,
     "metadata": {},
     "output_type": "execute_result"
    }
   ],
   "source": [
    "s <= m "
   ]
  },
  {
   "cell_type": "code",
   "execution_count": 153,
   "id": "38fc5e3f",
   "metadata": {},
   "outputs": [
    {
     "data": {
      "text/plain": [
       "False"
      ]
     },
     "execution_count": 153,
     "metadata": {},
     "output_type": "execute_result"
    }
   ],
   "source": [
    "s >= m "
   ]
  },
  {
   "cell_type": "code",
   "execution_count": 154,
   "id": "d8b1507f",
   "metadata": {},
   "outputs": [
    {
     "data": {
      "text/plain": [
       "True"
      ]
     },
     "execution_count": 154,
     "metadata": {},
     "output_type": "execute_result"
    }
   ],
   "source": [
    "s!= m "
   ]
  },
  {
   "cell_type": "code",
   "execution_count": 170,
   "id": "f75f8fe7",
   "metadata": {},
   "outputs": [
    {
     "name": "stdout",
     "output_type": "stream",
     "text": [
      "enter your name ahmed,ibrahim,salem\n"
     ]
    }
   ],
   "source": [
    "name = input(\"enter your name \")\n"
   ]
  },
  {
   "cell_type": "code",
   "execution_count": 171,
   "id": "45e23dde",
   "metadata": {},
   "outputs": [
    {
     "data": {
      "text/plain": [
       "'ahmed,ibrahim,salem'"
      ]
     },
     "execution_count": 171,
     "metadata": {},
     "output_type": "execute_result"
    }
   ],
   "source": [
    "name"
   ]
  },
  {
   "cell_type": "code",
   "execution_count": 172,
   "id": "355491d6",
   "metadata": {},
   "outputs": [
    {
     "data": {
      "text/plain": [
       "list"
      ]
     },
     "execution_count": 172,
     "metadata": {},
     "output_type": "execute_result"
    }
   ],
   "source": [
    "name = name.split(\",\")\n",
    "type(name)"
   ]
  },
  {
   "cell_type": "code",
   "execution_count": 173,
   "id": "0b49563b",
   "metadata": {},
   "outputs": [
    {
     "data": {
      "text/plain": [
       "'ahmed'"
      ]
     },
     "execution_count": 173,
     "metadata": {},
     "output_type": "execute_result"
    }
   ],
   "source": [
    "name[0]"
   ]
  },
  {
   "cell_type": "code",
   "execution_count": 174,
   "id": "1658d5e1",
   "metadata": {},
   "outputs": [
    {
     "data": {
      "text/plain": [
       "'ibrahim'"
      ]
     },
     "execution_count": 174,
     "metadata": {},
     "output_type": "execute_result"
    }
   ],
   "source": [
    "name[1]"
   ]
  },
  {
   "cell_type": "code",
   "execution_count": 175,
   "id": "1de7808a",
   "metadata": {},
   "outputs": [
    {
     "data": {
      "text/plain": [
       "'salem'"
      ]
     },
     "execution_count": 175,
     "metadata": {},
     "output_type": "execute_result"
    }
   ],
   "source": [
    "name[-1]"
   ]
  },
  {
   "cell_type": "code",
   "execution_count": 176,
   "id": "0cf472b0",
   "metadata": {},
   "outputs": [],
   "source": [
    "x= \"amit learning\""
   ]
  },
  {
   "cell_type": "code",
   "execution_count": 177,
   "id": "cd98e0d6",
   "metadata": {},
   "outputs": [
    {
     "data": {
      "text/plain": [
       "'Amit leArning'"
      ]
     },
     "execution_count": 177,
     "metadata": {},
     "output_type": "execute_result"
    }
   ],
   "source": [
    "x.replace(\"a\" , \"A\")"
   ]
  },
  {
   "cell_type": "code",
   "execution_count": null,
   "id": "8748e329",
   "metadata": {},
   "outputs": [],
   "source": []
  }
 ],
 "metadata": {
  "kernelspec": {
   "display_name": "Python 3 (ipykernel)",
   "language": "python",
   "name": "python3"
  },
  "language_info": {
   "codemirror_mode": {
    "name": "ipython",
    "version": 3
   },
   "file_extension": ".py",
   "mimetype": "text/x-python",
   "name": "python",
   "nbconvert_exporter": "python",
   "pygments_lexer": "ipython3",
   "version": "3.10.9"
  }
 },
 "nbformat": 4,
 "nbformat_minor": 5
}
