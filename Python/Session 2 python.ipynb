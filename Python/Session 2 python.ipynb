{
 "cells": [
  {
   "cell_type": "code",
   "execution_count": 10,
   "id": "53d83630",
   "metadata": {},
   "outputs": [],
   "source": [
    "# x = 10\n",
    "# x = 10.5\n",
    "# x = True \n",
    "# x = False\n",
    "# x = \"   amit   \"\n",
    "# x > y \n"
   ]
  },
  {
   "cell_type": "code",
   "execution_count": 11,
   "id": "cd1bf815",
   "metadata": {},
   "outputs": [],
   "source": [
    "# list \n",
    "# tuple\n",
    "# set \n",
    "# dict"
   ]
  },
  {
   "cell_type": "code",
   "execution_count": 12,
   "id": "446eed14",
   "metadata": {},
   "outputs": [],
   "source": [
    "lst = [1,2,3,4,5,6] "
   ]
  },
  {
   "cell_type": "code",
   "execution_count": 13,
   "id": "3afad40d",
   "metadata": {},
   "outputs": [],
   "source": [
    "s = \"amit learning\""
   ]
  },
  {
   "cell_type": "code",
   "execution_count": 14,
   "id": "3cc3bb31",
   "metadata": {},
   "outputs": [
    {
     "data": {
      "text/plain": [
       "'a'"
      ]
     },
     "execution_count": 14,
     "metadata": {},
     "output_type": "execute_result"
    }
   ],
   "source": [
    "s[0]"
   ]
  },
  {
   "cell_type": "code",
   "execution_count": 15,
   "id": "ae51474c",
   "metadata": {},
   "outputs": [
    {
     "data": {
      "text/plain": [
       "1"
      ]
     },
     "execution_count": 15,
     "metadata": {},
     "output_type": "execute_result"
    }
   ],
   "source": [
    "lst[0]"
   ]
  },
  {
   "cell_type": "code",
   "execution_count": 16,
   "id": "555a9423",
   "metadata": {},
   "outputs": [
    {
     "data": {
      "text/plain": [
       "6"
      ]
     },
     "execution_count": 16,
     "metadata": {},
     "output_type": "execute_result"
    }
   ],
   "source": [
    "lst[-1]"
   ]
  },
  {
   "cell_type": "code",
   "execution_count": 17,
   "id": "0fdd0d50",
   "metadata": {},
   "outputs": [
    {
     "data": {
      "text/plain": [
       "[1, 2, 3, 4, 5, 6, 1, 2, 3, 4, 5, 6]"
      ]
     },
     "execution_count": 17,
     "metadata": {},
     "output_type": "execute_result"
    }
   ],
   "source": [
    "lst * 2 "
   ]
  },
  {
   "cell_type": "code",
   "execution_count": 18,
   "id": "b742e4f0",
   "metadata": {},
   "outputs": [
    {
     "data": {
      "text/plain": [
       "[1, 2, 3, 4, 5, 6]"
      ]
     },
     "execution_count": 18,
     "metadata": {},
     "output_type": "execute_result"
    }
   ],
   "source": [
    "lst"
   ]
  },
  {
   "cell_type": "code",
   "execution_count": 19,
   "id": "589b6c36",
   "metadata": {},
   "outputs": [
    {
     "data": {
      "text/plain": [
       "[1, 2]"
      ]
     },
     "execution_count": 19,
     "metadata": {},
     "output_type": "execute_result"
    }
   ],
   "source": [
    "lst[0:2]"
   ]
  },
  {
   "cell_type": "code",
   "execution_count": 20,
   "id": "2207ec8a",
   "metadata": {},
   "outputs": [],
   "source": [
    "lst[0] = 10"
   ]
  },
  {
   "cell_type": "code",
   "execution_count": 21,
   "id": "92747708",
   "metadata": {},
   "outputs": [
    {
     "data": {
      "text/plain": [
       "[10, 2, 3, 4, 5, 6]"
      ]
     },
     "execution_count": 21,
     "metadata": {},
     "output_type": "execute_result"
    }
   ],
   "source": [
    "lst"
   ]
  },
  {
   "cell_type": "code",
   "execution_count": 22,
   "id": "5c177ad7",
   "metadata": {},
   "outputs": [],
   "source": [
    "lst.append(20)"
   ]
  },
  {
   "cell_type": "code",
   "execution_count": 23,
   "id": "ca1b09f3",
   "metadata": {},
   "outputs": [
    {
     "data": {
      "text/plain": [
       "[10, 2, 3, 4, 5, 6, 20]"
      ]
     },
     "execution_count": 23,
     "metadata": {},
     "output_type": "execute_result"
    }
   ],
   "source": [
    "lst"
   ]
  },
  {
   "cell_type": "code",
   "execution_count": 24,
   "id": "2f295bb9",
   "metadata": {},
   "outputs": [],
   "source": [
    "# lst.insert(index , item)\n",
    "lst.insert(0 , 20)"
   ]
  },
  {
   "cell_type": "code",
   "execution_count": 25,
   "id": "e6843c6b",
   "metadata": {},
   "outputs": [
    {
     "data": {
      "text/plain": [
       "[20, 10, 2, 3, 4, 5, 6, 20]"
      ]
     },
     "execution_count": 25,
     "metadata": {},
     "output_type": "execute_result"
    }
   ],
   "source": [
    "lst"
   ]
  },
  {
   "cell_type": "code",
   "execution_count": 26,
   "id": "51244f1e",
   "metadata": {},
   "outputs": [
    {
     "data": {
      "text/plain": [
       "[1, 2, 3]"
      ]
     },
     "execution_count": 26,
     "metadata": {},
     "output_type": "execute_result"
    }
   ],
   "source": [
    "lst1 = [1,2,3]\n",
    "lst1"
   ]
  },
  {
   "cell_type": "code",
   "execution_count": 27,
   "id": "2f2c78e8",
   "metadata": {},
   "outputs": [],
   "source": [
    "lst.extend(lst1)"
   ]
  },
  {
   "cell_type": "code",
   "execution_count": 28,
   "id": "e4d1491f",
   "metadata": {},
   "outputs": [
    {
     "data": {
      "text/plain": [
       "[20, 10, 2, 3, 4, 5, 6, 20, 1, 2, 3]"
      ]
     },
     "execution_count": 28,
     "metadata": {},
     "output_type": "execute_result"
    }
   ],
   "source": [
    "lst"
   ]
  },
  {
   "cell_type": "code",
   "execution_count": 29,
   "id": "f515b9e4",
   "metadata": {},
   "outputs": [],
   "source": [
    "lst2 = [1,2,3]\n",
    "lst3 = \"amit\"\n",
    "lst2.extend(lst3)"
   ]
  },
  {
   "cell_type": "code",
   "execution_count": 30,
   "id": "814183e7",
   "metadata": {},
   "outputs": [
    {
     "data": {
      "text/plain": [
       "[1, 2, 3, 'a', 'm', 'i', 't']"
      ]
     },
     "execution_count": 30,
     "metadata": {},
     "output_type": "execute_result"
    }
   ],
   "source": [
    "lst2"
   ]
  },
  {
   "cell_type": "code",
   "execution_count": 31,
   "id": "290d7f58",
   "metadata": {},
   "outputs": [],
   "source": [
    "lst2.append(\"learning\")"
   ]
  },
  {
   "cell_type": "code",
   "execution_count": 32,
   "id": "3e0f7626",
   "metadata": {},
   "outputs": [
    {
     "data": {
      "text/plain": [
       "[1, 2, 3, 'a', 'm', 'i', 't', 'learning']"
      ]
     },
     "execution_count": 32,
     "metadata": {},
     "output_type": "execute_result"
    }
   ],
   "source": [
    "lst2"
   ]
  },
  {
   "cell_type": "code",
   "execution_count": 33,
   "id": "6c3e4ba4",
   "metadata": {},
   "outputs": [
    {
     "data": {
      "text/plain": [
       "'amit learning'"
      ]
     },
     "execution_count": 33,
     "metadata": {},
     "output_type": "execute_result"
    }
   ],
   "source": [
    "s"
   ]
  },
  {
   "cell_type": "code",
   "execution_count": 34,
   "id": "1acaba65",
   "metadata": {},
   "outputs": [
    {
     "data": {
      "text/plain": [
       "13"
      ]
     },
     "execution_count": 34,
     "metadata": {},
     "output_type": "execute_result"
    }
   ],
   "source": [
    "len(s)"
   ]
  },
  {
   "cell_type": "code",
   "execution_count": 35,
   "id": "1def7161",
   "metadata": {},
   "outputs": [
    {
     "data": {
      "text/plain": [
       "[20, 10, 2, 3, 4, 5, 6, 20, 1, 2, 3]"
      ]
     },
     "execution_count": 35,
     "metadata": {},
     "output_type": "execute_result"
    }
   ],
   "source": [
    "lst"
   ]
  },
  {
   "cell_type": "code",
   "execution_count": 36,
   "id": "50ac5b3d",
   "metadata": {},
   "outputs": [
    {
     "data": {
      "text/plain": [
       "11"
      ]
     },
     "execution_count": 36,
     "metadata": {},
     "output_type": "execute_result"
    }
   ],
   "source": [
    "len(lst)"
   ]
  },
  {
   "cell_type": "code",
   "execution_count": 37,
   "id": "89736dd8",
   "metadata": {},
   "outputs": [
    {
     "data": {
      "text/plain": [
       "list"
      ]
     },
     "execution_count": 37,
     "metadata": {},
     "output_type": "execute_result"
    }
   ],
   "source": [
    "type(lst)"
   ]
  },
  {
   "cell_type": "code",
   "execution_count": 38,
   "id": "033d91c7",
   "metadata": {},
   "outputs": [],
   "source": [
    "lst.remove(10)"
   ]
  },
  {
   "cell_type": "code",
   "execution_count": 39,
   "id": "7e82e822",
   "metadata": {},
   "outputs": [
    {
     "data": {
      "text/plain": [
       "[20, 2, 3, 4, 5, 6, 20, 1, 2, 3]"
      ]
     },
     "execution_count": 39,
     "metadata": {},
     "output_type": "execute_result"
    }
   ],
   "source": [
    "lst"
   ]
  },
  {
   "cell_type": "code",
   "execution_count": 40,
   "id": "08d02e93",
   "metadata": {},
   "outputs": [
    {
     "ename": "ValueError",
     "evalue": "list.remove(x): x not in list",
     "output_type": "error",
     "traceback": [
      "\u001b[1;31m---------------------------------------------------------------------------\u001b[0m",
      "\u001b[1;31mValueError\u001b[0m                                Traceback (most recent call last)",
      "Cell \u001b[1;32mIn[40], line 1\u001b[0m\n\u001b[1;32m----> 1\u001b[0m \u001b[43mlst\u001b[49m\u001b[38;5;241;43m.\u001b[39;49m\u001b[43mremove\u001b[49m\u001b[43m(\u001b[49m\u001b[38;5;241;43m0\u001b[39;49m\u001b[43m)\u001b[49m\n",
      "\u001b[1;31mValueError\u001b[0m: list.remove(x): x not in list"
     ]
    }
   ],
   "source": [
    "lst.remove(0)"
   ]
  },
  {
   "cell_type": "code",
   "execution_count": 41,
   "id": "0a506817",
   "metadata": {},
   "outputs": [],
   "source": [
    "lst.remove(20)"
   ]
  },
  {
   "cell_type": "code",
   "execution_count": 42,
   "id": "6de1d584",
   "metadata": {},
   "outputs": [
    {
     "data": {
      "text/plain": [
       "[2, 3, 4, 5, 6, 20, 1, 2, 3]"
      ]
     },
     "execution_count": 42,
     "metadata": {},
     "output_type": "execute_result"
    }
   ],
   "source": [
    "lst"
   ]
  },
  {
   "cell_type": "code",
   "execution_count": 43,
   "id": "86ee4e35",
   "metadata": {},
   "outputs": [
    {
     "data": {
      "text/plain": [
       "3"
      ]
     },
     "execution_count": 43,
     "metadata": {},
     "output_type": "execute_result"
    }
   ],
   "source": [
    "lst.pop()"
   ]
  },
  {
   "cell_type": "code",
   "execution_count": 44,
   "id": "fde652cb",
   "metadata": {},
   "outputs": [
    {
     "data": {
      "text/plain": [
       "[2, 3, 4, 5, 6, 20, 1, 2]"
      ]
     },
     "execution_count": 44,
     "metadata": {},
     "output_type": "execute_result"
    }
   ],
   "source": [
    "lst"
   ]
  },
  {
   "cell_type": "code",
   "execution_count": 45,
   "id": "172f74de",
   "metadata": {},
   "outputs": [
    {
     "data": {
      "text/plain": [
       "2"
      ]
     },
     "execution_count": 45,
     "metadata": {},
     "output_type": "execute_result"
    }
   ],
   "source": [
    "# lst.pop(index)\n",
    "lst.pop(0)"
   ]
  },
  {
   "cell_type": "code",
   "execution_count": 46,
   "id": "6f91cc54",
   "metadata": {},
   "outputs": [
    {
     "data": {
      "text/plain": [
       "[3, 4, 5, 6, 20, 1, 2]"
      ]
     },
     "execution_count": 46,
     "metadata": {},
     "output_type": "execute_result"
    }
   ],
   "source": [
    "lst"
   ]
  },
  {
   "cell_type": "code",
   "execution_count": 47,
   "id": "983927cc",
   "metadata": {},
   "outputs": [],
   "source": [
    "del lst[0]"
   ]
  },
  {
   "cell_type": "code",
   "execution_count": 48,
   "id": "c9ca1aec",
   "metadata": {},
   "outputs": [
    {
     "data": {
      "text/plain": [
       "[4, 5, 6, 20, 1, 2]"
      ]
     },
     "execution_count": 48,
     "metadata": {},
     "output_type": "execute_result"
    }
   ],
   "source": [
    "lst"
   ]
  },
  {
   "cell_type": "code",
   "execution_count": 49,
   "id": "1afe3c7f",
   "metadata": {},
   "outputs": [
    {
     "data": {
      "text/plain": [
       "2"
      ]
     },
     "execution_count": 49,
     "metadata": {},
     "output_type": "execute_result"
    }
   ],
   "source": [
    "# lst.index(item)\n",
    "lst.index(6)"
   ]
  },
  {
   "cell_type": "code",
   "execution_count": 50,
   "id": "0e0ef914",
   "metadata": {},
   "outputs": [],
   "source": [
    "lst.append(1)"
   ]
  },
  {
   "cell_type": "code",
   "execution_count": 51,
   "id": "8c613cb6",
   "metadata": {},
   "outputs": [
    {
     "data": {
      "text/plain": [
       "[4, 5, 6, 20, 1, 2, 1]"
      ]
     },
     "execution_count": 51,
     "metadata": {},
     "output_type": "execute_result"
    }
   ],
   "source": [
    "lst"
   ]
  },
  {
   "cell_type": "code",
   "execution_count": 52,
   "id": "abaa4099",
   "metadata": {},
   "outputs": [
    {
     "data": {
      "text/plain": [
       "2"
      ]
     },
     "execution_count": 52,
     "metadata": {},
     "output_type": "execute_result"
    }
   ],
   "source": [
    "# lst.count(item)\n",
    "lst.count(1)"
   ]
  },
  {
   "cell_type": "code",
   "execution_count": 53,
   "id": "bf9dc2f5",
   "metadata": {},
   "outputs": [
    {
     "data": {
      "text/plain": [
       "0"
      ]
     },
     "execution_count": 53,
     "metadata": {},
     "output_type": "execute_result"
    }
   ],
   "source": [
    "lst.count(0)"
   ]
  },
  {
   "cell_type": "code",
   "execution_count": 54,
   "id": "b8fcd472",
   "metadata": {},
   "outputs": [
    {
     "data": {
      "text/plain": [
       "[4, 5, 6, 20, 1, 2, 1]"
      ]
     },
     "execution_count": 54,
     "metadata": {},
     "output_type": "execute_result"
    }
   ],
   "source": [
    "lst"
   ]
  },
  {
   "cell_type": "code",
   "execution_count": 55,
   "id": "87f9bb45",
   "metadata": {},
   "outputs": [],
   "source": [
    "lst.sort()"
   ]
  },
  {
   "cell_type": "code",
   "execution_count": 56,
   "id": "072f6967",
   "metadata": {},
   "outputs": [
    {
     "data": {
      "text/plain": [
       "[1, 1, 2, 4, 5, 6, 20]"
      ]
     },
     "execution_count": 56,
     "metadata": {},
     "output_type": "execute_result"
    }
   ],
   "source": [
    "lst"
   ]
  },
  {
   "cell_type": "code",
   "execution_count": 57,
   "id": "e860a86c",
   "metadata": {},
   "outputs": [],
   "source": [
    "lst.reverse()"
   ]
  },
  {
   "cell_type": "code",
   "execution_count": 58,
   "id": "83cc6c2f",
   "metadata": {},
   "outputs": [
    {
     "data": {
      "text/plain": [
       "[20, 6, 5, 4, 2, 1, 1]"
      ]
     },
     "execution_count": 58,
     "metadata": {},
     "output_type": "execute_result"
    }
   ],
   "source": [
    "lst"
   ]
  },
  {
   "cell_type": "code",
   "execution_count": 59,
   "id": "b324f221",
   "metadata": {},
   "outputs": [],
   "source": [
    "lst1 = lst"
   ]
  },
  {
   "cell_type": "code",
   "execution_count": 60,
   "id": "1d0ccd30",
   "metadata": {},
   "outputs": [
    {
     "data": {
      "text/plain": [
       "[20, 6, 5, 4, 2, 1, 1]"
      ]
     },
     "execution_count": 60,
     "metadata": {},
     "output_type": "execute_result"
    }
   ],
   "source": [
    "lst1"
   ]
  },
  {
   "cell_type": "code",
   "execution_count": 61,
   "id": "0abbceac",
   "metadata": {},
   "outputs": [
    {
     "data": {
      "text/plain": [
       "[20, 6, 5, 4, 2, 1, 1]"
      ]
     },
     "execution_count": 61,
     "metadata": {},
     "output_type": "execute_result"
    }
   ],
   "source": [
    "lst"
   ]
  },
  {
   "cell_type": "code",
   "execution_count": 62,
   "id": "fa9e127a",
   "metadata": {},
   "outputs": [
    {
     "data": {
      "text/plain": [
       "1"
      ]
     },
     "execution_count": 62,
     "metadata": {},
     "output_type": "execute_result"
    }
   ],
   "source": [
    "lst1.pop()"
   ]
  },
  {
   "cell_type": "code",
   "execution_count": 63,
   "id": "da70736f",
   "metadata": {},
   "outputs": [
    {
     "data": {
      "text/plain": [
       "[20, 6, 5, 4, 2, 1]"
      ]
     },
     "execution_count": 63,
     "metadata": {},
     "output_type": "execute_result"
    }
   ],
   "source": [
    "lst1"
   ]
  },
  {
   "cell_type": "code",
   "execution_count": 64,
   "id": "f6f50fde",
   "metadata": {},
   "outputs": [
    {
     "data": {
      "text/plain": [
       "[20, 6, 5, 4, 2, 1]"
      ]
     },
     "execution_count": 64,
     "metadata": {},
     "output_type": "execute_result"
    }
   ],
   "source": [
    "lst"
   ]
  },
  {
   "cell_type": "code",
   "execution_count": 65,
   "id": "8747cfc7",
   "metadata": {},
   "outputs": [],
   "source": [
    "lst1 = lst.copy()"
   ]
  },
  {
   "cell_type": "code",
   "execution_count": 66,
   "id": "4982d390",
   "metadata": {},
   "outputs": [
    {
     "data": {
      "text/plain": [
       "[20, 6, 5, 4, 2, 1]"
      ]
     },
     "execution_count": 66,
     "metadata": {},
     "output_type": "execute_result"
    }
   ],
   "source": [
    "lst1"
   ]
  },
  {
   "cell_type": "code",
   "execution_count": 67,
   "id": "d5582c3d",
   "metadata": {},
   "outputs": [
    {
     "data": {
      "text/plain": [
       "[20, 6, 5, 4, 2, 1]"
      ]
     },
     "execution_count": 67,
     "metadata": {},
     "output_type": "execute_result"
    }
   ],
   "source": [
    "lst"
   ]
  },
  {
   "cell_type": "code",
   "execution_count": 68,
   "id": "d2402f76",
   "metadata": {},
   "outputs": [
    {
     "data": {
      "text/plain": [
       "1"
      ]
     },
     "execution_count": 68,
     "metadata": {},
     "output_type": "execute_result"
    }
   ],
   "source": [
    "lst1.pop()"
   ]
  },
  {
   "cell_type": "code",
   "execution_count": 69,
   "id": "0658fba5",
   "metadata": {},
   "outputs": [
    {
     "data": {
      "text/plain": [
       "[20, 6, 5, 4, 2]"
      ]
     },
     "execution_count": 69,
     "metadata": {},
     "output_type": "execute_result"
    }
   ],
   "source": [
    "lst1"
   ]
  },
  {
   "cell_type": "code",
   "execution_count": 70,
   "id": "359440d4",
   "metadata": {},
   "outputs": [
    {
     "data": {
      "text/plain": [
       "[20, 6, 5, 4, 2, 1]"
      ]
     },
     "execution_count": 70,
     "metadata": {},
     "output_type": "execute_result"
    }
   ],
   "source": [
    "lst"
   ]
  },
  {
   "cell_type": "code",
   "execution_count": 71,
   "id": "dd09b396",
   "metadata": {},
   "outputs": [],
   "source": [
    "# a , b , c = 1 , 3 , 4 "
   ]
  },
  {
   "cell_type": "code",
   "execution_count": 72,
   "id": "84ed4f1d",
   "metadata": {},
   "outputs": [],
   "source": [
    "# a = b = c = 1"
   ]
  },
  {
   "cell_type": "code",
   "execution_count": 73,
   "id": "e9d80628",
   "metadata": {},
   "outputs": [
    {
     "data": {
      "text/plain": [
       "[20, 6, 5, 4, 2]"
      ]
     },
     "execution_count": 73,
     "metadata": {},
     "output_type": "execute_result"
    }
   ],
   "source": [
    "lst1"
   ]
  },
  {
   "cell_type": "code",
   "execution_count": 74,
   "id": "304ccc4b",
   "metadata": {},
   "outputs": [],
   "source": [
    "lst1.clear()"
   ]
  },
  {
   "cell_type": "code",
   "execution_count": 76,
   "id": "fddc7169",
   "metadata": {},
   "outputs": [],
   "source": [
    "del lst1"
   ]
  },
  {
   "cell_type": "code",
   "execution_count": 77,
   "id": "f6528f63",
   "metadata": {},
   "outputs": [
    {
     "ename": "NameError",
     "evalue": "name 'lst1' is not defined",
     "output_type": "error",
     "traceback": [
      "\u001b[1;31m---------------------------------------------------------------------------\u001b[0m",
      "\u001b[1;31mNameError\u001b[0m                                 Traceback (most recent call last)",
      "Cell \u001b[1;32mIn[77], line 1\u001b[0m\n\u001b[1;32m----> 1\u001b[0m \u001b[43mlst1\u001b[49m\n",
      "\u001b[1;31mNameError\u001b[0m: name 'lst1' is not defined"
     ]
    }
   ],
   "source": [
    "lst1"
   ]
  },
  {
   "cell_type": "code",
   "execution_count": 78,
   "id": "e9ff78bc",
   "metadata": {},
   "outputs": [],
   "source": [
    "# lst = [1,2,3] ,  list([1,2,3])\n",
    "# lst.append(item)\n",
    "# lst.insert(index,item)\n",
    "# lst.extend(seq)\n",
    "# lst.remove(item)\n",
    "# lst.pop(index)\n",
    "# lst.index(item)\n",
    "# lst.sort()\n",
    "# lst.reverse()\n",
    "# lst.count(item)\n",
    "# lst.copy()\n",
    "# lst.clear()\n",
    "# len(lst)\n",
    "# type(lst)\n",
    "\n",
    "# del lst[index]\n",
    "# del lst\n",
    "# [\"ahmed\" , \"ibrahim\" , \"salem\" , \"30\"]"
   ]
  },
  {
   "cell_type": "code",
   "execution_count": 79,
   "id": "b3764a23",
   "metadata": {},
   "outputs": [],
   "source": [
    "lst4 = [1,2,3]\n",
    "lst5 = lst4"
   ]
  },
  {
   "cell_type": "code",
   "execution_count": 80,
   "id": "0b9f4dd2",
   "metadata": {},
   "outputs": [],
   "source": [
    "del lst4"
   ]
  },
  {
   "cell_type": "code",
   "execution_count": 81,
   "id": "eef9ff11",
   "metadata": {},
   "outputs": [
    {
     "data": {
      "text/plain": [
       "[1, 2, 3]"
      ]
     },
     "execution_count": 81,
     "metadata": {},
     "output_type": "execute_result"
    }
   ],
   "source": [
    "lst5"
   ]
  },
  {
   "cell_type": "code",
   "execution_count": 107,
   "id": "bb1af3ca",
   "metadata": {},
   "outputs": [
    {
     "data": {
      "text/plain": [
       "5"
      ]
     },
     "execution_count": 107,
     "metadata": {},
     "output_type": "execute_result"
    }
   ],
   "source": [
    "lst = [1,2,3,[2,3,4 ,[3,4,5]]]\n",
    "lst[-1][-1][-1]"
   ]
  },
  {
   "cell_type": "markdown",
   "id": "a6a70136",
   "metadata": {},
   "source": [
    "# tuple"
   ]
  },
  {
   "cell_type": "code",
   "execution_count": 112,
   "id": "3bc88bea",
   "metadata": {},
   "outputs": [],
   "source": [
    "# t = ()  or tuple()\n",
    "t = (1,2,3,4,5)"
   ]
  },
  {
   "cell_type": "code",
   "execution_count": 83,
   "id": "7f81ccff",
   "metadata": {},
   "outputs": [
    {
     "data": {
      "text/plain": [
       "5"
      ]
     },
     "execution_count": 83,
     "metadata": {},
     "output_type": "execute_result"
    }
   ],
   "source": [
    "len(t)"
   ]
  },
  {
   "cell_type": "code",
   "execution_count": 84,
   "id": "334e0a04",
   "metadata": {},
   "outputs": [
    {
     "data": {
      "text/plain": [
       "tuple"
      ]
     },
     "execution_count": 84,
     "metadata": {},
     "output_type": "execute_result"
    }
   ],
   "source": [
    "type(t)"
   ]
  },
  {
   "cell_type": "code",
   "execution_count": 86,
   "id": "0bde841a",
   "metadata": {},
   "outputs": [
    {
     "data": {
      "text/plain": [
       "5"
      ]
     },
     "execution_count": 86,
     "metadata": {},
     "output_type": "execute_result"
    }
   ],
   "source": [
    "t[-1]"
   ]
  },
  {
   "cell_type": "code",
   "execution_count": 88,
   "id": "56d902ba",
   "metadata": {},
   "outputs": [
    {
     "ename": "TypeError",
     "evalue": "'tuple' object does not support item assignment",
     "output_type": "error",
     "traceback": [
      "\u001b[1;31m---------------------------------------------------------------------------\u001b[0m",
      "\u001b[1;31mTypeError\u001b[0m                                 Traceback (most recent call last)",
      "Cell \u001b[1;32mIn[88], line 1\u001b[0m\n\u001b[1;32m----> 1\u001b[0m t[\u001b[38;5;241m-\u001b[39m\u001b[38;5;241m1\u001b[39m] \u001b[38;5;241m=\u001b[39m \u001b[38;5;241m10\u001b[39m\n",
      "\u001b[1;31mTypeError\u001b[0m: 'tuple' object does not support item assignment"
     ]
    }
   ],
   "source": [
    "t[-1] = 10"
   ]
  },
  {
   "cell_type": "code",
   "execution_count": 89,
   "id": "21fc5976",
   "metadata": {},
   "outputs": [],
   "source": [
    "lst = list(t)"
   ]
  },
  {
   "cell_type": "code",
   "execution_count": 90,
   "id": "61bd07d9",
   "metadata": {},
   "outputs": [
    {
     "data": {
      "text/plain": [
       "[1, 2, 3, 4, 5]"
      ]
     },
     "execution_count": 90,
     "metadata": {},
     "output_type": "execute_result"
    }
   ],
   "source": [
    "lst"
   ]
  },
  {
   "cell_type": "code",
   "execution_count": 91,
   "id": "09485437",
   "metadata": {},
   "outputs": [],
   "source": [
    "lst.append(6)"
   ]
  },
  {
   "cell_type": "code",
   "execution_count": 92,
   "id": "84fbff74",
   "metadata": {},
   "outputs": [
    {
     "data": {
      "text/plain": [
       "[1, 2, 3, 4, 5, 6]"
      ]
     },
     "execution_count": 92,
     "metadata": {},
     "output_type": "execute_result"
    }
   ],
   "source": [
    "lst"
   ]
  },
  {
   "cell_type": "code",
   "execution_count": 93,
   "id": "9b4bde5a",
   "metadata": {},
   "outputs": [],
   "source": [
    "t = tuple(lst)"
   ]
  },
  {
   "cell_type": "code",
   "execution_count": 94,
   "id": "7b9ea1bb",
   "metadata": {},
   "outputs": [
    {
     "data": {
      "text/plain": [
       "(1, 2, 3, 4, 5, 6)"
      ]
     },
     "execution_count": 94,
     "metadata": {},
     "output_type": "execute_result"
    }
   ],
   "source": [
    "t"
   ]
  },
  {
   "cell_type": "code",
   "execution_count": 99,
   "id": "7761657a",
   "metadata": {},
   "outputs": [],
   "source": [
    "t = t + (2,)"
   ]
  },
  {
   "cell_type": "code",
   "execution_count": 100,
   "id": "1e4dde52",
   "metadata": {},
   "outputs": [
    {
     "data": {
      "text/plain": [
       "(1, 2, 3, 4, 5, 6, 1, 2)"
      ]
     },
     "execution_count": 100,
     "metadata": {},
     "output_type": "execute_result"
    }
   ],
   "source": [
    "t"
   ]
  },
  {
   "cell_type": "code",
   "execution_count": 101,
   "id": "7ccaa846",
   "metadata": {},
   "outputs": [
    {
     "data": {
      "text/plain": [
       "2"
      ]
     },
     "execution_count": 101,
     "metadata": {},
     "output_type": "execute_result"
    }
   ],
   "source": [
    "t.count(1)"
   ]
  },
  {
   "cell_type": "code",
   "execution_count": 102,
   "id": "31c558bf",
   "metadata": {},
   "outputs": [
    {
     "data": {
      "text/plain": [
       "0"
      ]
     },
     "execution_count": 102,
     "metadata": {},
     "output_type": "execute_result"
    }
   ],
   "source": [
    "t.index(1)"
   ]
  },
  {
   "cell_type": "code",
   "execution_count": 111,
   "id": "a64c863d",
   "metadata": {},
   "outputs": [
    {
     "data": {
      "text/plain": [
       "5"
      ]
     },
     "execution_count": 111,
     "metadata": {},
     "output_type": "execute_result"
    }
   ],
   "source": [
    "t = (1,2,3,(2,3,4 ,(3,4,5)))\n",
    "t[-1][-1][-1]"
   ]
  },
  {
   "cell_type": "code",
   "execution_count": 103,
   "id": "59a0fe1c",
   "metadata": {},
   "outputs": [],
   "source": [
    "# t = (, , , , )   or tuple(seq) seq = [1,2,3,4] , tuple , set \n",
    "# t.count(item)\n",
    "# t.index(item)\n",
    "# len(t)\n",
    "# type(t)\n",
    "# t[index]\n",
    "# t[0] = value xxxx\n",
    "# convert tuple to list and use the method of the list"
   ]
  },
  {
   "cell_type": "markdown",
   "id": "84741214",
   "metadata": {},
   "source": [
    "# Set"
   ]
  },
  {
   "cell_type": "code",
   "execution_count": 113,
   "id": "70aeff8f",
   "metadata": {},
   "outputs": [
    {
     "data": {
      "text/plain": [
       "set"
      ]
     },
     "execution_count": 113,
     "metadata": {},
     "output_type": "execute_result"
    }
   ],
   "source": [
    "# s = { , , , , ,} or set(seq)\n",
    "A = {1,2,3,4}\n",
    "B = {3,4,5,6}\n",
    "type(A)"
   ]
  },
  {
   "cell_type": "code",
   "execution_count": 114,
   "id": "7a5fb251",
   "metadata": {},
   "outputs": [
    {
     "data": {
      "text/plain": [
       "4"
      ]
     },
     "execution_count": 114,
     "metadata": {},
     "output_type": "execute_result"
    }
   ],
   "source": [
    "len(B)"
   ]
  },
  {
   "cell_type": "code",
   "execution_count": 115,
   "id": "99d7f5a5",
   "metadata": {},
   "outputs": [
    {
     "ename": "TypeError",
     "evalue": "'set' object is not subscriptable",
     "output_type": "error",
     "traceback": [
      "\u001b[1;31m---------------------------------------------------------------------------\u001b[0m",
      "\u001b[1;31mTypeError\u001b[0m                                 Traceback (most recent call last)",
      "Cell \u001b[1;32mIn[115], line 1\u001b[0m\n\u001b[1;32m----> 1\u001b[0m \u001b[43mA\u001b[49m\u001b[43m[\u001b[49m\u001b[38;5;241;43m0\u001b[39;49m\u001b[43m]\u001b[49m\n",
      "\u001b[1;31mTypeError\u001b[0m: 'set' object is not subscriptable"
     ]
    }
   ],
   "source": [
    "A[0]"
   ]
  },
  {
   "cell_type": "code",
   "execution_count": 116,
   "id": "8d71deac",
   "metadata": {},
   "outputs": [
    {
     "data": {
      "text/plain": [
       "{1, 2, 3, 4}"
      ]
     },
     "execution_count": 116,
     "metadata": {},
     "output_type": "execute_result"
    }
   ],
   "source": [
    "A"
   ]
  },
  {
   "cell_type": "code",
   "execution_count": 117,
   "id": "3135d66a",
   "metadata": {},
   "outputs": [
    {
     "data": {
      "text/plain": [
       "True"
      ]
     },
     "execution_count": 117,
     "metadata": {},
     "output_type": "execute_result"
    }
   ],
   "source": [
    "1 in A"
   ]
  },
  {
   "cell_type": "code",
   "execution_count": 118,
   "id": "f1b79848",
   "metadata": {},
   "outputs": [
    {
     "data": {
      "text/plain": [
       "False"
      ]
     },
     "execution_count": 118,
     "metadata": {},
     "output_type": "execute_result"
    }
   ],
   "source": [
    "5 in A"
   ]
  },
  {
   "cell_type": "code",
   "execution_count": 119,
   "id": "86409be9",
   "metadata": {},
   "outputs": [
    {
     "data": {
      "text/plain": [
       "{1, 2, 3, 4}"
      ]
     },
     "execution_count": 119,
     "metadata": {},
     "output_type": "execute_result"
    }
   ],
   "source": [
    "A"
   ]
  },
  {
   "cell_type": "code",
   "execution_count": 120,
   "id": "44360465",
   "metadata": {},
   "outputs": [],
   "source": [
    "A.add(7)"
   ]
  },
  {
   "cell_type": "code",
   "execution_count": 121,
   "id": "f604476e",
   "metadata": {},
   "outputs": [
    {
     "data": {
      "text/plain": [
       "{1, 2, 3, 4, 7}"
      ]
     },
     "execution_count": 121,
     "metadata": {},
     "output_type": "execute_result"
    }
   ],
   "source": [
    "A"
   ]
  },
  {
   "cell_type": "code",
   "execution_count": 122,
   "id": "cbf517ec",
   "metadata": {},
   "outputs": [
    {
     "data": {
      "text/plain": [
       "{1, 2, 3, 4, 7}"
      ]
     },
     "execution_count": 122,
     "metadata": {},
     "output_type": "execute_result"
    }
   ],
   "source": [
    "A"
   ]
  },
  {
   "cell_type": "code",
   "execution_count": 123,
   "id": "1feafeb0",
   "metadata": {},
   "outputs": [
    {
     "data": {
      "text/plain": [
       "{3, 4, 5, 6}"
      ]
     },
     "execution_count": 123,
     "metadata": {},
     "output_type": "execute_result"
    }
   ],
   "source": [
    "B"
   ]
  },
  {
   "cell_type": "code",
   "execution_count": 124,
   "id": "2dd9817d",
   "metadata": {},
   "outputs": [],
   "source": [
    "A.update(B)"
   ]
  },
  {
   "cell_type": "code",
   "execution_count": 125,
   "id": "85155836",
   "metadata": {},
   "outputs": [
    {
     "data": {
      "text/plain": [
       "{1, 2, 3, 4, 5, 6, 7}"
      ]
     },
     "execution_count": 125,
     "metadata": {},
     "output_type": "execute_result"
    }
   ],
   "source": [
    "A"
   ]
  },
  {
   "cell_type": "code",
   "execution_count": 126,
   "id": "76529360",
   "metadata": {},
   "outputs": [],
   "source": [
    "A.remove(7)"
   ]
  },
  {
   "cell_type": "code",
   "execution_count": 128,
   "id": "10b08475",
   "metadata": {},
   "outputs": [],
   "source": [
    "A.remove(6)"
   ]
  },
  {
   "cell_type": "code",
   "execution_count": 129,
   "id": "879cfdcf",
   "metadata": {},
   "outputs": [],
   "source": [
    "A.remove(5)"
   ]
  },
  {
   "cell_type": "code",
   "execution_count": 130,
   "id": "570694fb",
   "metadata": {},
   "outputs": [
    {
     "data": {
      "text/plain": [
       "{1, 2, 3, 4}"
      ]
     },
     "execution_count": 130,
     "metadata": {},
     "output_type": "execute_result"
    }
   ],
   "source": [
    "A"
   ]
  },
  {
   "cell_type": "code",
   "execution_count": 131,
   "id": "f04565ee",
   "metadata": {},
   "outputs": [
    {
     "data": {
      "text/plain": [
       "{3, 4, 5, 6}"
      ]
     },
     "execution_count": 131,
     "metadata": {},
     "output_type": "execute_result"
    }
   ],
   "source": [
    "B"
   ]
  },
  {
   "cell_type": "code",
   "execution_count": 134,
   "id": "e6d61e72",
   "metadata": {},
   "outputs": [
    {
     "data": {
      "text/plain": [
       "{1, 2, 3, 4, 5, 6}"
      ]
     },
     "execution_count": 134,
     "metadata": {},
     "output_type": "execute_result"
    }
   ],
   "source": [
    "A.union(B)"
   ]
  },
  {
   "cell_type": "code",
   "execution_count": 136,
   "id": "1e3b4ac2",
   "metadata": {},
   "outputs": [
    {
     "data": {
      "text/plain": [
       "{3, 4}"
      ]
     },
     "execution_count": 136,
     "metadata": {},
     "output_type": "execute_result"
    }
   ],
   "source": [
    "# A ^ B\n",
    "A.intersection(B)"
   ]
  },
  {
   "cell_type": "code",
   "execution_count": 137,
   "id": "dce230c5",
   "metadata": {},
   "outputs": [
    {
     "data": {
      "text/plain": [
       "{1, 2, 3, 4}"
      ]
     },
     "execution_count": 137,
     "metadata": {},
     "output_type": "execute_result"
    }
   ],
   "source": [
    "A"
   ]
  },
  {
   "cell_type": "code",
   "execution_count": 138,
   "id": "6957daad",
   "metadata": {},
   "outputs": [
    {
     "data": {
      "text/plain": [
       "{3, 4, 5, 6}"
      ]
     },
     "execution_count": 138,
     "metadata": {},
     "output_type": "execute_result"
    }
   ],
   "source": [
    "B"
   ]
  },
  {
   "cell_type": "code",
   "execution_count": 139,
   "id": "6fa6eb77",
   "metadata": {},
   "outputs": [],
   "source": [
    "A.intersection_update(B)"
   ]
  },
  {
   "cell_type": "code",
   "execution_count": 140,
   "id": "98d2d018",
   "metadata": {},
   "outputs": [
    {
     "data": {
      "text/plain": [
       "{3, 4}"
      ]
     },
     "execution_count": 140,
     "metadata": {},
     "output_type": "execute_result"
    }
   ],
   "source": [
    "A"
   ]
  },
  {
   "cell_type": "code",
   "execution_count": 141,
   "id": "54285ed9",
   "metadata": {},
   "outputs": [],
   "source": [
    "# s = {1,2,3} or set(seq) seq = list or tuple \n",
    "# len(s)\n",
    "# type(s)\n",
    "# item in s \n",
    "# item not in S\n",
    "# s.add(item)\n",
    "# s.update(seq)\n",
    "# s.remove(item)\n",
    "# s.union(s1)\n",
    "# s.intersection(s1)\n",
    "# s.intersection_update(s1)"
   ]
  },
  {
   "cell_type": "code",
   "execution_count": 142,
   "id": "85ab24dd",
   "metadata": {},
   "outputs": [],
   "source": [
    "# create empty: \n",
    "#     tuple  (1,2,3,4,5)\n",
    "#     set {12,3,4,5,6,6}\n",
    "# add input from user (number)\n",
    "# remove the last value from each variable\n"
   ]
  },
  {
   "cell_type": "code",
   "execution_count": 148,
   "id": "94b46e42",
   "metadata": {},
   "outputs": [],
   "source": [
    "s = {17 ,2,3,1,4,5,12}"
   ]
  },
  {
   "cell_type": "code",
   "execution_count": 150,
   "id": "717eda4a",
   "metadata": {},
   "outputs": [
    {
     "data": {
      "text/plain": [
       "{1, 2, 3, 4, 5, 12, 17}"
      ]
     },
     "execution_count": 150,
     "metadata": {},
     "output_type": "execute_result"
    }
   ],
   "source": [
    "s"
   ]
  },
  {
   "cell_type": "markdown",
   "id": "969a9cee",
   "metadata": {},
   "source": [
    "# Dictionary"
   ]
  },
  {
   "cell_type": "code",
   "execution_count": 151,
   "id": "d861d2e2",
   "metadata": {},
   "outputs": [],
   "source": [
    "# d = {\"key\":value , \"key1\":value} or  dict(seq)"
   ]
  },
  {
   "cell_type": "code",
   "execution_count": 156,
   "id": "9a029199",
   "metadata": {},
   "outputs": [],
   "source": [
    "d = {\"k1\":10 , \"k2\":20 , \"k3\": 30}"
   ]
  },
  {
   "cell_type": "code",
   "execution_count": 157,
   "id": "06a4120b",
   "metadata": {},
   "outputs": [
    {
     "data": {
      "text/plain": [
       "10"
      ]
     },
     "execution_count": 157,
     "metadata": {},
     "output_type": "execute_result"
    }
   ],
   "source": [
    "d[\"k1\"]"
   ]
  },
  {
   "cell_type": "code",
   "execution_count": 158,
   "id": "60a422b8",
   "metadata": {},
   "outputs": [
    {
     "data": {
      "text/plain": [
       "3"
      ]
     },
     "execution_count": 158,
     "metadata": {},
     "output_type": "execute_result"
    }
   ],
   "source": [
    "len(d)"
   ]
  },
  {
   "cell_type": "code",
   "execution_count": 159,
   "id": "c8f48b61",
   "metadata": {},
   "outputs": [
    {
     "data": {
      "text/plain": [
       "dict"
      ]
     },
     "execution_count": 159,
     "metadata": {},
     "output_type": "execute_result"
    }
   ],
   "source": [
    "type(d)"
   ]
  },
  {
   "cell_type": "code",
   "execution_count": 160,
   "id": "8fe1361d",
   "metadata": {},
   "outputs": [],
   "source": [
    "d[\"k1\"] = 5"
   ]
  },
  {
   "cell_type": "code",
   "execution_count": 161,
   "id": "0a24758f",
   "metadata": {},
   "outputs": [
    {
     "data": {
      "text/plain": [
       "{'k1': 5, 'k2': 20, 'k3': 30}"
      ]
     },
     "execution_count": 161,
     "metadata": {},
     "output_type": "execute_result"
    }
   ],
   "source": [
    "d"
   ]
  },
  {
   "cell_type": "code",
   "execution_count": 162,
   "id": "71c5acab",
   "metadata": {},
   "outputs": [],
   "source": [
    "d[\"k4\"] = 35"
   ]
  },
  {
   "cell_type": "code",
   "execution_count": 163,
   "id": "7ef71236",
   "metadata": {},
   "outputs": [
    {
     "data": {
      "text/plain": [
       "{'k1': 5, 'k2': 20, 'k3': 30, 'k4': 35}"
      ]
     },
     "execution_count": 163,
     "metadata": {},
     "output_type": "execute_result"
    }
   ],
   "source": [
    "d"
   ]
  },
  {
   "cell_type": "code",
   "execution_count": 164,
   "id": "8257374f",
   "metadata": {},
   "outputs": [
    {
     "data": {
      "text/plain": [
       "35"
      ]
     },
     "execution_count": 164,
     "metadata": {},
     "output_type": "execute_result"
    }
   ],
   "source": [
    "d[\"k4\"]"
   ]
  },
  {
   "cell_type": "code",
   "execution_count": 165,
   "id": "e72efa9f",
   "metadata": {},
   "outputs": [
    {
     "data": {
      "text/plain": [
       "35"
      ]
     },
     "execution_count": 165,
     "metadata": {},
     "output_type": "execute_result"
    }
   ],
   "source": [
    "d.get(\"k4\")"
   ]
  },
  {
   "cell_type": "code",
   "execution_count": 170,
   "id": "587b760d",
   "metadata": {},
   "outputs": [
    {
     "data": {
      "text/plain": [
       "dict_items([('k1', 5), ('k2', 20), ('k3', 30), ('k4', 35)])"
      ]
     },
     "execution_count": 170,
     "metadata": {},
     "output_type": "execute_result"
    }
   ],
   "source": [
    "d.items()"
   ]
  },
  {
   "cell_type": "code",
   "execution_count": 167,
   "id": "3baad946",
   "metadata": {},
   "outputs": [
    {
     "data": {
      "text/plain": [
       "{'k1': 5, 'k2': 20, 'k3': 30, 'k4': 35}"
      ]
     },
     "execution_count": 167,
     "metadata": {},
     "output_type": "execute_result"
    }
   ],
   "source": [
    "d"
   ]
  },
  {
   "cell_type": "code",
   "execution_count": 171,
   "id": "9490ca7f",
   "metadata": {},
   "outputs": [
    {
     "data": {
      "text/plain": [
       "dict_keys(['k1', 'k2', 'k3', 'k4'])"
      ]
     },
     "execution_count": 171,
     "metadata": {},
     "output_type": "execute_result"
    }
   ],
   "source": [
    "d.keys()"
   ]
  },
  {
   "cell_type": "code",
   "execution_count": 172,
   "id": "1050a560",
   "metadata": {},
   "outputs": [
    {
     "data": {
      "text/plain": [
       "dict_values([5, 20, 30, 35])"
      ]
     },
     "execution_count": 172,
     "metadata": {},
     "output_type": "execute_result"
    }
   ],
   "source": [
    "d.values()"
   ]
  },
  {
   "cell_type": "code",
   "execution_count": 173,
   "id": "0ac669f3",
   "metadata": {},
   "outputs": [],
   "source": [
    "d1 = d.copy()"
   ]
  },
  {
   "cell_type": "code",
   "execution_count": 174,
   "id": "101a269d",
   "metadata": {},
   "outputs": [
    {
     "data": {
      "text/plain": [
       "{'k1': 5, 'k2': 20, 'k3': 30, 'k4': 35}"
      ]
     },
     "execution_count": 174,
     "metadata": {},
     "output_type": "execute_result"
    }
   ],
   "source": [
    "d1"
   ]
  },
  {
   "cell_type": "code",
   "execution_count": 175,
   "id": "fd9ffea9",
   "metadata": {},
   "outputs": [],
   "source": [
    "d1.clear()"
   ]
  },
  {
   "cell_type": "code",
   "execution_count": 177,
   "id": "b3e1afed",
   "metadata": {},
   "outputs": [
    {
     "data": {
      "text/plain": [
       "dict"
      ]
     },
     "execution_count": 177,
     "metadata": {},
     "output_type": "execute_result"
    }
   ],
   "source": [
    "type(d1)"
   ]
  },
  {
   "cell_type": "code",
   "execution_count": 179,
   "id": "10c42d56",
   "metadata": {},
   "outputs": [],
   "source": [
    "t = ((\"k1\" ,1),(\"k2\" ,2) , (\"k3\" ,3))"
   ]
  },
  {
   "cell_type": "code",
   "execution_count": 180,
   "id": "60dbcbc3",
   "metadata": {},
   "outputs": [
    {
     "data": {
      "text/plain": [
       "(('k1', 1), ('k2', 2), ('k3', 3))"
      ]
     },
     "execution_count": 180,
     "metadata": {},
     "output_type": "execute_result"
    }
   ],
   "source": [
    "t"
   ]
  },
  {
   "cell_type": "code",
   "execution_count": 181,
   "id": "81815df2",
   "metadata": {},
   "outputs": [],
   "source": [
    "d1 = dict(t)"
   ]
  },
  {
   "cell_type": "code",
   "execution_count": 182,
   "id": "c6410525",
   "metadata": {},
   "outputs": [
    {
     "data": {
      "text/plain": [
       "{'k1': 1, 'k2': 2, 'k3': 3}"
      ]
     },
     "execution_count": 182,
     "metadata": {},
     "output_type": "execute_result"
    }
   ],
   "source": [
    "d1"
   ]
  },
  {
   "cell_type": "code",
   "execution_count": null,
   "id": "3836b073",
   "metadata": {},
   "outputs": [],
   "source": []
  },
  {
   "cell_type": "code",
   "execution_count": null,
   "id": "0f73e6c9",
   "metadata": {},
   "outputs": [],
   "source": []
  },
  {
   "cell_type": "code",
   "execution_count": 183,
   "id": "21fcbf58",
   "metadata": {},
   "outputs": [],
   "source": [
    "t = ((1 ,1),(2 ,2) , (3 ,3))"
   ]
  },
  {
   "cell_type": "code",
   "execution_count": 184,
   "id": "63f62c81",
   "metadata": {},
   "outputs": [
    {
     "data": {
      "text/plain": [
       "((1, 1), (2, 2), (3, 3))"
      ]
     },
     "execution_count": 184,
     "metadata": {},
     "output_type": "execute_result"
    }
   ],
   "source": [
    "t"
   ]
  },
  {
   "cell_type": "code",
   "execution_count": 185,
   "id": "d3dfe46c",
   "metadata": {},
   "outputs": [],
   "source": [
    "d1 = dict(t)"
   ]
  },
  {
   "cell_type": "code",
   "execution_count": 186,
   "id": "7dd95a87",
   "metadata": {},
   "outputs": [
    {
     "data": {
      "text/plain": [
       "{1: 1, 2: 2, 3: 3}"
      ]
     },
     "execution_count": 186,
     "metadata": {},
     "output_type": "execute_result"
    }
   ],
   "source": [
    "d1"
   ]
  },
  {
   "cell_type": "code",
   "execution_count": 187,
   "id": "ec573b0a",
   "metadata": {},
   "outputs": [
    {
     "data": {
      "text/plain": [
       "1"
      ]
     },
     "execution_count": 187,
     "metadata": {},
     "output_type": "execute_result"
    }
   ],
   "source": [
    "d1[1]"
   ]
  },
  {
   "cell_type": "code",
   "execution_count": 188,
   "id": "2b940d43",
   "metadata": {},
   "outputs": [
    {
     "data": {
      "text/plain": [
       "1"
      ]
     },
     "execution_count": 188,
     "metadata": {},
     "output_type": "execute_result"
    }
   ],
   "source": [
    "d1.get(1)"
   ]
  },
  {
   "cell_type": "code",
   "execution_count": 189,
   "id": "672af2f8",
   "metadata": {},
   "outputs": [],
   "source": [
    "# d = {\"k\":value , , , ,} or dict(seq)\n",
    "# len(d)\n",
    "# type(d)\n",
    "# d[\"key\"]\n",
    "# d.get(\"key\")\n",
    "# d or d.items()\n",
    "# d.keys()\n",
    "# d.values()\n",
    "# d.clear()\n",
    "# d.copy()"
   ]
  },
  {
   "cell_type": "code",
   "execution_count": 190,
   "id": "f6774482",
   "metadata": {},
   "outputs": [],
   "source": [
    "d = {\"k1\":[1,2,3,4,5,{\"k_l\":[1,2,3,4,5,[1,2,3,4,{\"k_l_l\":\"hello\"}]]}] , \"k2\":20 , \"k3\": 30}"
   ]
  },
  {
   "cell_type": "code",
   "execution_count": 192,
   "id": "1ed26960",
   "metadata": {},
   "outputs": [
    {
     "data": {
      "text/plain": [
       "[1, 2, 3, 4, 5, {'k_l': [1, 2, 3, 4, 5, [1, 2, 3, 4, {'k_l_l': 'hello'}]]}]"
      ]
     },
     "execution_count": 192,
     "metadata": {},
     "output_type": "execute_result"
    }
   ],
   "source": [
    "d[\"k1\"]"
   ]
  },
  {
   "cell_type": "code",
   "execution_count": 193,
   "id": "753e48f3",
   "metadata": {},
   "outputs": [
    {
     "data": {
      "text/plain": [
       "{'k_l': [1, 2, 3, 4, 5, [1, 2, 3, 4, {'k_l_l': 'hello'}]]}"
      ]
     },
     "execution_count": 193,
     "metadata": {},
     "output_type": "execute_result"
    }
   ],
   "source": [
    "d[\"k1\"][-1]"
   ]
  },
  {
   "cell_type": "code",
   "execution_count": 194,
   "id": "bd62913a",
   "metadata": {},
   "outputs": [
    {
     "data": {
      "text/plain": [
       "[1, 2, 3, 4, 5, [1, 2, 3, 4, {'k_l_l': 'hello'}]]"
      ]
     },
     "execution_count": 194,
     "metadata": {},
     "output_type": "execute_result"
    }
   ],
   "source": [
    "d[\"k1\"][-1][\"k_l\"]"
   ]
  },
  {
   "cell_type": "code",
   "execution_count": 195,
   "id": "07e15915",
   "metadata": {},
   "outputs": [
    {
     "data": {
      "text/plain": [
       "[1, 2, 3, 4, {'k_l_l': 'hello'}]"
      ]
     },
     "execution_count": 195,
     "metadata": {},
     "output_type": "execute_result"
    }
   ],
   "source": [
    "d[\"k1\"][-1][\"k_l\"][-1]"
   ]
  },
  {
   "cell_type": "code",
   "execution_count": 196,
   "id": "7ffeceaa",
   "metadata": {},
   "outputs": [
    {
     "data": {
      "text/plain": [
       "{'k_l_l': 'hello'}"
      ]
     },
     "execution_count": 196,
     "metadata": {},
     "output_type": "execute_result"
    }
   ],
   "source": [
    "d[\"k1\"][-1][\"k_l\"][-1][-1]"
   ]
  },
  {
   "cell_type": "code",
   "execution_count": 197,
   "id": "efc0fd77",
   "metadata": {},
   "outputs": [
    {
     "data": {
      "text/plain": [
       "'hello'"
      ]
     },
     "execution_count": 197,
     "metadata": {},
     "output_type": "execute_result"
    }
   ],
   "source": [
    "d[\"k1\"][-1][\"k_l\"][-1][-1][\"k_l_l\"]"
   ]
  },
  {
   "cell_type": "code",
   "execution_count": 198,
   "id": "6cf4ddfb",
   "metadata": {},
   "outputs": [
    {
     "data": {
      "text/plain": [
       "'HELLO'"
      ]
     },
     "execution_count": 198,
     "metadata": {},
     "output_type": "execute_result"
    }
   ],
   "source": [
    "d[\"k1\"][-1][\"k_l\"][-1][-1][\"k_l_l\"].upper()"
   ]
  },
  {
   "cell_type": "code",
   "execution_count": 199,
   "id": "7608a705",
   "metadata": {},
   "outputs": [],
   "source": [
    "d[\"k1\"][-1][\"k_l\"][-1][-1][\"k_l_l\"] = d[\"k1\"][-1][\"k_l\"][-1][-1][\"k_l_l\"].upper()"
   ]
  },
  {
   "cell_type": "code",
   "execution_count": 200,
   "id": "44fc785e",
   "metadata": {},
   "outputs": [
    {
     "data": {
      "text/plain": [
       "{'k1': [1,\n",
       "  2,\n",
       "  3,\n",
       "  4,\n",
       "  5,\n",
       "  {'k_l': [1, 2, 3, 4, 5, [1, 2, 3, 4, {'k_l_l': 'HELLO'}]]}],\n",
       " 'k2': 20,\n",
       " 'k3': 30}"
      ]
     },
     "execution_count": 200,
     "metadata": {},
     "output_type": "execute_result"
    }
   ],
   "source": [
    "d"
   ]
  },
  {
   "cell_type": "code",
   "execution_count": 209,
   "id": "2abfe46c",
   "metadata": {},
   "outputs": [
    {
     "name": "stdout",
     "output_type": "stream",
     "text": [
      "b is greater than a\n"
     ]
    }
   ],
   "source": [
    "a = 10\n",
    "b = 20\n",
    "if a > b  :\n",
    "    print(\"a is greater than b \")\n",
    "else:\n",
    "    print(\"b is greater than a\")"
   ]
  },
  {
   "cell_type": "code",
   "execution_count": 204,
   "id": "87e05efc",
   "metadata": {},
   "outputs": [
    {
     "data": {
      "text/plain": [
       "False"
      ]
     },
     "execution_count": 204,
     "metadata": {},
     "output_type": "execute_result"
    }
   ],
   "source": [
    "a > b"
   ]
  },
  {
   "cell_type": "code",
   "execution_count": 205,
   "id": "f533fde1",
   "metadata": {},
   "outputs": [
    {
     "data": {
      "text/plain": [
       "True"
      ]
     },
     "execution_count": 205,
     "metadata": {},
     "output_type": "execute_result"
    }
   ],
   "source": [
    "b > a"
   ]
  },
  {
   "cell_type": "code",
   "execution_count": 211,
   "id": "ddc388f0",
   "metadata": {},
   "outputs": [
    {
     "name": "stdout",
     "output_type": "stream",
     "text": [
      "a is equal to b \n"
     ]
    }
   ],
   "source": [
    "a = 10\n",
    "b = 10\n",
    "if a > b  :\n",
    "    print(\"a is greater than b \")\n",
    "elif b > a:\n",
    "    print(\"b is greater than a\")\n",
    "else:\n",
    "    print(\"a is equal to b \")"
   ]
  },
  {
   "cell_type": "code",
   "execution_count": 212,
   "id": "73f14f99",
   "metadata": {},
   "outputs": [],
   "source": [
    "G = 80\n",
    "# if G >= 90 and G <=100:\n",
    "    "
   ]
  },
  {
   "cell_type": "code",
   "execution_count": 213,
   "id": "4978c201",
   "metadata": {},
   "outputs": [
    {
     "data": {
      "text/plain": [
       "False"
      ]
     },
     "execution_count": 213,
     "metadata": {},
     "output_type": "execute_result"
    }
   ],
   "source": [
    "G >= 90 and G <=100"
   ]
  },
  {
   "cell_type": "code",
   "execution_count": 214,
   "id": "0005c669",
   "metadata": {},
   "outputs": [
    {
     "data": {
      "text/plain": [
       "False"
      ]
     },
     "execution_count": 214,
     "metadata": {},
     "output_type": "execute_result"
    }
   ],
   "source": [
    "False and True"
   ]
  },
  {
   "cell_type": "code",
   "execution_count": 215,
   "id": "1440f6fb",
   "metadata": {},
   "outputs": [
    {
     "data": {
      "text/plain": [
       "True"
      ]
     },
     "execution_count": 215,
     "metadata": {},
     "output_type": "execute_result"
    }
   ],
   "source": [
    "True and True"
   ]
  },
  {
   "cell_type": "code",
   "execution_count": 216,
   "id": "fe27e172",
   "metadata": {},
   "outputs": [
    {
     "data": {
      "text/plain": [
       "False"
      ]
     },
     "execution_count": 216,
     "metadata": {},
     "output_type": "execute_result"
    }
   ],
   "source": [
    "False and False"
   ]
  },
  {
   "cell_type": "code",
   "execution_count": 218,
   "id": "74b830f5",
   "metadata": {},
   "outputs": [
    {
     "name": "stdout",
     "output_type": "stream",
     "text": [
      "VG\n"
     ]
    }
   ],
   "source": [
    "G = 80\n",
    "if G >= 90 and G <=100:\n",
    "    print(\"exc\")\n",
    "elif G >= 80 and G <90:\n",
    "    print(\"VG\")\n",
    "elif G >= 60 and G <80:\n",
    "    print(\"Good\")\n",
    "else:\n",
    "    print(\"bad\")\n",
    "\n",
    "    "
   ]
  },
  {
   "cell_type": "code",
   "execution_count": 219,
   "id": "48a2aacb",
   "metadata": {},
   "outputs": [
    {
     "data": {
      "text/plain": [
       "True"
      ]
     },
     "execution_count": 219,
     "metadata": {},
     "output_type": "execute_result"
    }
   ],
   "source": [
    "10 % 2 ==0"
   ]
  },
  {
   "cell_type": "code",
   "execution_count": 220,
   "id": "c6eade69",
   "metadata": {},
   "outputs": [
    {
     "name": "stdout",
     "output_type": "stream",
     "text": [
      "enter the number 10\n",
      "10  is even\n"
     ]
    }
   ],
   "source": [
    "x = int(input(\"enter the number \"))\n",
    "if x % 2 == 0 :\n",
    "    print(x , \" is even\")\n",
    "else:\n",
    "    print(x , \" is odd\")"
   ]
  },
  {
   "cell_type": "code",
   "execution_count": 221,
   "id": "edde7b29",
   "metadata": {},
   "outputs": [
    {
     "name": "stdout",
     "output_type": "stream",
     "text": [
      "2\n",
      "3\n",
      "4\n"
     ]
    }
   ],
   "source": [
    "lst = [2,3,4,5,6,7]\n",
    "print(lst[0] )\n",
    "print(lst[1] )\n",
    "print(lst[2] )"
   ]
  },
  {
   "cell_type": "code",
   "execution_count": 223,
   "id": "eceaf5fc",
   "metadata": {},
   "outputs": [
    {
     "name": "stdout",
     "output_type": "stream",
     "text": [
      "2\n",
      "3\n",
      "4\n",
      "5\n",
      "6\n",
      "7\n"
     ]
    }
   ],
   "source": [
    "for i in lst:\n",
    "    print(i)"
   ]
  },
  {
   "cell_type": "code",
   "execution_count": 224,
   "id": "a2a6015f",
   "metadata": {},
   "outputs": [
    {
     "name": "stdout",
     "output_type": "stream",
     "text": [
      "a\n",
      "m\n",
      "i\n",
      "t\n"
     ]
    }
   ],
   "source": [
    "s = \"amit\"\n",
    "for i in s:\n",
    "    print(i)"
   ]
  },
  {
   "cell_type": "code",
   "execution_count": 225,
   "id": "dd6d7a7c",
   "metadata": {},
   "outputs": [
    {
     "data": {
      "text/plain": [
       "[2, 3, 4, 5, 6, 7, 2, 3, 4, 5, 6, 7]"
      ]
     },
     "execution_count": 225,
     "metadata": {},
     "output_type": "execute_result"
    }
   ],
   "source": [
    "lst * 2 "
   ]
  },
  {
   "cell_type": "code",
   "execution_count": 229,
   "id": "0386bc77",
   "metadata": {},
   "outputs": [
    {
     "name": "stdout",
     "output_type": "stream",
     "text": [
      "2 * 2 =  4\n",
      "2 * 3 =  6\n",
      "2 * 4 =  8\n",
      "2 * 5 =  10\n",
      "2 * 6 =  12\n",
      "2 * 7 =  14\n"
     ]
    }
   ],
   "source": [
    "for i in lst :\n",
    "    print(f\"2 * {i} =  {i * 2}\" )"
   ]
  },
  {
   "cell_type": "code",
   "execution_count": null,
   "id": "98843580",
   "metadata": {},
   "outputs": [],
   "source": [
    "x = input(\"enter num 1 \")\n",
    "y = input(\"enter num 2 \")\n",
    "z = input(\"enter num 3 \") \n",
    "x = input(\"enter num 1 \")\n",
    "y = input(\"enter num 2 \")\n",
    "z = input(\"enter num 3 \") \n",
    "x = input(\"enter num 1 \")\n",
    "y = input(\"enter num 2 \")\n",
    "z = input(\"enter num 3 \") "
   ]
  },
  {
   "cell_type": "code",
   "execution_count": 244,
   "id": "46840fb4",
   "metadata": {},
   "outputs": [
    {
     "name": "stdout",
     "output_type": "stream",
     "text": [
      "enter num 1 1\n",
      "enter num 2 2\n",
      "enter num 3 3\n",
      "enter num 4 5\n",
      "enter num 5 6\n"
     ]
    }
   ],
   "source": [
    "### range(start , end , step )\n",
    "lst = []\n",
    "for i in range(0 , 5):\n",
    "    x = int(input(f\"enter num {i+1} \"))\n",
    "    lst.append(x)"
   ]
  },
  {
   "cell_type": "code",
   "execution_count": 245,
   "id": "b5d42b44",
   "metadata": {},
   "outputs": [
    {
     "data": {
      "text/plain": [
       "[1, 2, 3, 5, 6]"
      ]
     },
     "execution_count": 245,
     "metadata": {},
     "output_type": "execute_result"
    }
   ],
   "source": [
    "lst"
   ]
  },
  {
   "cell_type": "code",
   "execution_count": 238,
   "id": "54490220",
   "metadata": {},
   "outputs": [
    {
     "data": {
      "text/plain": [
       "[2, 4, 6, 8, 10]"
      ]
     },
     "execution_count": 238,
     "metadata": {},
     "output_type": "execute_result"
    }
   ],
   "source": [
    "lst= [1,2,3,4,5]\n",
    "[i*2 for i in lst]"
   ]
  },
  {
   "cell_type": "code",
   "execution_count": 248,
   "id": "914d0b3d",
   "metadata": {},
   "outputs": [
    {
     "name": "stdout",
     "output_type": "stream",
     "text": [
      "1\n",
      "2\n",
      "3\n",
      "4\n",
      "5\n",
      "6\n",
      "7\n",
      "8\n",
      "9\n"
     ]
    }
   ],
   "source": [
    "lst = [[1,2,3],[4,5,6],[7,8,9]]\n",
    "for i in lst:\n",
    "    for j in i :\n",
    "        print(j)"
   ]
  },
  {
   "cell_type": "code",
   "execution_count": 249,
   "id": "6d84843b",
   "metadata": {},
   "outputs": [
    {
     "name": "stdout",
     "output_type": "stream",
     "text": [
      "1\n",
      "2\n"
     ]
    }
   ],
   "source": [
    "lst =[1,2,3,4,5,6]\n",
    "for i in lst :\n",
    "    if i == 3:\n",
    "        break\n",
    "    else:\n",
    "        print(i)"
   ]
  },
  {
   "cell_type": "code",
   "execution_count": 258,
   "id": "b63a96c4",
   "metadata": {},
   "outputs": [
    {
     "name": "stdout",
     "output_type": "stream",
     "text": [
      " **** \n",
      "1\n",
      "|||||||||||||\n",
      " **** \n",
      "2\n",
      "|||||||||||||\n",
      " **** \n",
      "4\n",
      "|||||||||||||\n",
      " **** \n",
      "5\n",
      "|||||||||||||\n",
      " **** \n",
      "6\n",
      "|||||||||||||\n"
     ]
    }
   ],
   "source": [
    "lst =[1,2,3,4,5,6]\n",
    "for i in lst :\n",
    "    if i == 3:\n",
    "        continue\n",
    "    else:\n",
    "        print(\" **** \")\n",
    "    print(i)\n",
    "    print(\"|||||||||||||\")"
   ]
  },
  {
   "cell_type": "code",
   "execution_count": 259,
   "id": "f2782192",
   "metadata": {},
   "outputs": [
    {
     "name": "stdout",
     "output_type": "stream",
     "text": [
      " **** \n",
      "1\n",
      "|||||||||||||\n",
      " **** \n",
      "2\n",
      "|||||||||||||\n",
      "3\n",
      "|||||||||||||\n",
      " **** \n",
      "4\n",
      "|||||||||||||\n",
      " **** \n",
      "5\n",
      "|||||||||||||\n",
      " **** \n",
      "6\n",
      "|||||||||||||\n"
     ]
    }
   ],
   "source": [
    "lst =[1,2,3,4,5,6]\n",
    "for i in lst :\n",
    "    if i == 3:\n",
    "        pass\n",
    "    else:\n",
    "        print(\" **** \")\n",
    "    print(i)\n",
    "    print(\"|||||||||||||\")"
   ]
  },
  {
   "cell_type": "code",
   "execution_count": 262,
   "id": "7767f7fb",
   "metadata": {},
   "outputs": [
    {
     "name": "stdout",
     "output_type": "stream",
     "text": [
      "enter your name ahmed-ibrahim-salem\n"
     ]
    }
   ],
   "source": [
    "name = input(\"enter your name \").split(\"-\")\n"
   ]
  },
  {
   "cell_type": "code",
   "execution_count": 263,
   "id": "eab70c19",
   "metadata": {},
   "outputs": [
    {
     "data": {
      "text/plain": [
       "['ahmed', 'ibrahim', 'salem']"
      ]
     },
     "execution_count": 263,
     "metadata": {},
     "output_type": "execute_result"
    }
   ],
   "source": [
    "name\n"
   ]
  },
  {
   "cell_type": "code",
   "execution_count": 264,
   "id": "8e353e85",
   "metadata": {},
   "outputs": [
    {
     "data": {
      "text/plain": [
       "'ahmed ibrahim salem'"
      ]
     },
     "execution_count": 264,
     "metadata": {},
     "output_type": "execute_result"
    }
   ],
   "source": [
    "\" \".join(name)"
   ]
  },
  {
   "cell_type": "code",
   "execution_count": null,
   "id": "d35004d0",
   "metadata": {},
   "outputs": [],
   "source": []
  }
 ],
 "metadata": {
  "kernelspec": {
   "display_name": "Python 3 (ipykernel)",
   "language": "python",
   "name": "python3"
  },
  "language_info": {
   "codemirror_mode": {
    "name": "ipython",
    "version": 3
   },
   "file_extension": ".py",
   "mimetype": "text/x-python",
   "name": "python",
   "nbconvert_exporter": "python",
   "pygments_lexer": "ipython3",
   "version": "3.10.9"
  }
 },
 "nbformat": 4,
 "nbformat_minor": 5
}
