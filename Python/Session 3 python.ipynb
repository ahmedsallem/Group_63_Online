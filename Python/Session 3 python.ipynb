{
 "cells": [
  {
   "cell_type": "code",
   "execution_count": 56,
   "id": "a93360c3",
   "metadata": {},
   "outputs": [],
   "source": [
    "# list \n",
    "# set \n",
    "# tuple\n",
    "# dict"
   ]
  },
  {
   "cell_type": "code",
   "execution_count": 57,
   "id": "c9742525",
   "metadata": {},
   "outputs": [],
   "source": [
    "# for while\n",
    "\n",
    "# functions \n",
    "#     built in \n",
    "#     user defined\n",
    "\n",
    "# how to handle error by using \n",
    "#     try \n",
    "#     except"
   ]
  },
  {
   "cell_type": "code",
   "execution_count": 58,
   "id": "e5a5fc7c",
   "metadata": {},
   "outputs": [
    {
     "data": {
      "text/plain": [
       "list"
      ]
     },
     "execution_count": 58,
     "metadata": {},
     "output_type": "execute_result"
    }
   ],
   "source": [
    "lst = [1,2,3]\n",
    "type(lst)"
   ]
  },
  {
   "cell_type": "code",
   "execution_count": 59,
   "id": "40745580",
   "metadata": {},
   "outputs": [
    {
     "data": {
      "text/plain": [
       "tuple"
      ]
     },
     "execution_count": 59,
     "metadata": {},
     "output_type": "execute_result"
    }
   ],
   "source": [
    "t = (1,2,3)\n",
    "type(t)"
   ]
  },
  {
   "cell_type": "code",
   "execution_count": 60,
   "id": "35450b13",
   "metadata": {},
   "outputs": [
    {
     "data": {
      "text/plain": [
       "set"
      ]
     },
     "execution_count": 60,
     "metadata": {},
     "output_type": "execute_result"
    }
   ],
   "source": [
    "s = {1,2,3}\n",
    "type(s)"
   ]
  },
  {
   "cell_type": "code",
   "execution_count": 61,
   "id": "104fb629",
   "metadata": {},
   "outputs": [
    {
     "data": {
      "text/plain": [
       "dict"
      ]
     },
     "execution_count": 61,
     "metadata": {},
     "output_type": "execute_result"
    }
   ],
   "source": [
    "d = {\"k\":1}\n",
    "type(d)"
   ]
  },
  {
   "cell_type": "code",
   "execution_count": 62,
   "id": "67f851b1",
   "metadata": {},
   "outputs": [
    {
     "name": "stdout",
     "output_type": "stream",
     "text": [
      "a\tm\ti\tt\t"
     ]
    }
   ],
   "source": [
    "for i in \"amit\":\n",
    "    print(i , end=\"\\t\")"
   ]
  },
  {
   "cell_type": "code",
   "execution_count": 63,
   "id": "f2aee336",
   "metadata": {},
   "outputs": [
    {
     "data": {
      "text/plain": [
       "[2, 3, 4, 5, 6, 7, 8, 9, 2, 3, 4, 5, 6, 7, 8, 9]"
      ]
     },
     "execution_count": 63,
     "metadata": {},
     "output_type": "execute_result"
    }
   ],
   "source": [
    "lst = [2,3,4,5,6,7,8,9]\n",
    "lst * 2 "
   ]
  },
  {
   "cell_type": "code",
   "execution_count": 64,
   "id": "2d5fec2d",
   "metadata": {},
   "outputs": [
    {
     "name": "stdout",
     "output_type": "stream",
     "text": [
      "4\n",
      "6\n",
      "8\n",
      "10\n",
      "12\n",
      "14\n",
      "16\n",
      "18\n"
     ]
    }
   ],
   "source": [
    "for i in lst:\n",
    "    print(i * 2)"
   ]
  },
  {
   "cell_type": "code",
   "execution_count": 65,
   "id": "f1365422",
   "metadata": {},
   "outputs": [],
   "source": [
    "lst = [1,2,3]"
   ]
  },
  {
   "cell_type": "code",
   "execution_count": 66,
   "id": "c45b6ef2",
   "metadata": {},
   "outputs": [
    {
     "data": {
      "text/plain": [
       "[2, 4, 6]"
      ]
     },
     "execution_count": 66,
     "metadata": {},
     "output_type": "execute_result"
    }
   ],
   "source": [
    "[i * 2 for i in lst]"
   ]
  },
  {
   "cell_type": "code",
   "execution_count": 67,
   "id": "83a4acb3",
   "metadata": {},
   "outputs": [
    {
     "name": "stdout",
     "output_type": "stream",
     "text": [
      "6\n"
     ]
    }
   ],
   "source": [
    "s = 0\n",
    "for i in lst:\n",
    "    s = s + i\n",
    "    \n",
    "print(s)"
   ]
  },
  {
   "cell_type": "code",
   "execution_count": 68,
   "id": "84a12c46",
   "metadata": {},
   "outputs": [
    {
     "name": "stdout",
     "output_type": "stream",
     "text": [
      "6\n"
     ]
    }
   ],
   "source": [
    "s = 0\n",
    "for i in lst:\n",
    "    s += i\n",
    "    \n",
    "print(s)"
   ]
  },
  {
   "cell_type": "code",
   "execution_count": 69,
   "id": "b95d1cc1",
   "metadata": {},
   "outputs": [
    {
     "data": {
      "text/plain": [
       "6"
      ]
     },
     "execution_count": 69,
     "metadata": {},
     "output_type": "execute_result"
    }
   ],
   "source": [
    "sum(lst)"
   ]
  },
  {
   "cell_type": "code",
   "execution_count": 70,
   "id": "d9498e20",
   "metadata": {},
   "outputs": [
    {
     "data": {
      "text/plain": [
       "[3, 4, 5]"
      ]
     },
     "execution_count": 70,
     "metadata": {},
     "output_type": "execute_result"
    }
   ],
   "source": [
    "[i + 2 for i in lst ]"
   ]
  },
  {
   "cell_type": "code",
   "execution_count": 71,
   "id": "5242f98f",
   "metadata": {},
   "outputs": [
    {
     "data": {
      "text/plain": [
       "[3, 4, 5]"
      ]
     },
     "execution_count": 71,
     "metadata": {},
     "output_type": "execute_result"
    }
   ],
   "source": [
    "lst1 = []\n",
    "for i in lst:\n",
    "    x = i + 2\n",
    "    lst1.append(x)\n",
    "lst1"
   ]
  },
  {
   "cell_type": "code",
   "execution_count": 72,
   "id": "d6b9a393",
   "metadata": {},
   "outputs": [
    {
     "name": "stdout",
     "output_type": "stream",
     "text": [
      "3\n"
     ]
    }
   ],
   "source": [
    "lst = [1,2,3,4]\n",
    "for i in lst :\n",
    "    if i == 3 :\n",
    "        print(i)\n"
   ]
  },
  {
   "cell_type": "code",
   "execution_count": 73,
   "id": "2db26959",
   "metadata": {},
   "outputs": [
    {
     "name": "stdout",
     "output_type": "stream",
     "text": [
      "index  0 and value  1\n",
      "index  1 and value  2\n",
      "index  2 and value  3\n",
      "index  3 and value  4\n"
     ]
    }
   ],
   "source": [
    "for i , v in enumerate(lst):\n",
    "    print(\"index \", i , \"and value \" , v )"
   ]
  },
  {
   "cell_type": "code",
   "execution_count": 74,
   "id": "ef91b195",
   "metadata": {},
   "outputs": [
    {
     "data": {
      "text/plain": [
       "3"
      ]
     },
     "execution_count": 74,
     "metadata": {},
     "output_type": "execute_result"
    }
   ],
   "source": [
    "lst = [1,2,3,4]\n",
    "lst[2]"
   ]
  },
  {
   "cell_type": "code",
   "execution_count": 75,
   "id": "5cb89d8b",
   "metadata": {},
   "outputs": [],
   "source": [
    "# cond = True\n",
    "# while cond : \n",
    "#     print(\"amit \")"
   ]
  },
  {
   "cell_type": "code",
   "execution_count": 76,
   "id": "5eed6927",
   "metadata": {},
   "outputs": [
    {
     "name": "stdout",
     "output_type": "stream",
     "text": [
      "amit 1\n",
      "amit 2\n",
      "amit 3\n",
      "amit 4\n",
      "amit 5\n",
      "6\n"
     ]
    }
   ],
   "source": [
    "x = 1\n",
    "while x <= 5:\n",
    "    print(\"amit\" , x)\n",
    "    x = x+1\n",
    "print(x)"
   ]
  },
  {
   "cell_type": "code",
   "execution_count": 86,
   "id": "045d9b6a",
   "metadata": {},
   "outputs": [
    {
     "data": {
      "text/plain": [
       "['amit', 'learning', 'python']"
      ]
     },
     "execution_count": 86,
     "metadata": {},
     "output_type": "execute_result"
    }
   ],
   "source": [
    "lst = [\"amit\" , \"learning\" , \"python\"]\n",
    "# lst.remove(\"amit\")\n",
    "lst"
   ]
  },
  {
   "cell_type": "code",
   "execution_count": 78,
   "id": "6de1f525",
   "metadata": {},
   "outputs": [],
   "source": [
    "# lst.remove(\"machine\")"
   ]
  },
  {
   "cell_type": "code",
   "execution_count": 79,
   "id": "7b11ac85",
   "metadata": {},
   "outputs": [
    {
     "name": "stdout",
     "output_type": "stream",
     "text": [
      "amit learning\n"
     ]
    }
   ],
   "source": [
    "print(\"amit learning\")"
   ]
  },
  {
   "cell_type": "code",
   "execution_count": 80,
   "id": "c50d3181",
   "metadata": {},
   "outputs": [
    {
     "name": "stdout",
     "output_type": "stream",
     "text": [
      "x not in list\n"
     ]
    }
   ],
   "source": [
    "try:\n",
    "    lst.remove(\"machine\")\n",
    "except:\n",
    "    print(\"x not in list\")"
   ]
  },
  {
   "cell_type": "code",
   "execution_count": 82,
   "id": "fe59e0e2",
   "metadata": {},
   "outputs": [
    {
     "name": "stdout",
     "output_type": "stream",
     "text": [
      "amit\n"
     ]
    }
   ],
   "source": [
    "print(\"amit\")"
   ]
  },
  {
   "cell_type": "code",
   "execution_count": 83,
   "id": "bfb837eb",
   "metadata": {},
   "outputs": [],
   "source": [
    "# try: is the main code you want to handle\n",
    "# except: is the action you do if error exists\n",
    "# else: is the action you do if no error exists\n",
    "# finally: is the action you take regardless of errors or not "
   ]
  },
  {
   "cell_type": "code",
   "execution_count": 87,
   "id": "491375f7",
   "metadata": {},
   "outputs": [
    {
     "name": "stdout",
     "output_type": "stream",
     "text": [
      "['learning', 'python']\n",
      "Good\n",
      "Done/or check again\n"
     ]
    }
   ],
   "source": [
    "try:\n",
    "    lst.remove(\"amit\")\n",
    "    print(lst)\n",
    "except:\n",
    "    print(\"x not in list\")\n",
    "else:\n",
    "    print(\"Good\")\n",
    "finally:\n",
    "    print(\"Done/or check again\")"
   ]
  },
  {
   "cell_type": "code",
   "execution_count": null,
   "id": "84b85eca",
   "metadata": {},
   "outputs": [],
   "source": [
    "for i in lst :\n",
    "    print(i)\n",
    "    \n",
    "# sum(lst)\n",
    "\n",
    "print(\"amit\")\n"
   ]
  },
  {
   "cell_type": "code",
   "execution_count": 88,
   "id": "4a4f3df4",
   "metadata": {},
   "outputs": [
    {
     "data": {
      "text/plain": [
       "6"
      ]
     },
     "execution_count": 88,
     "metadata": {},
     "output_type": "execute_result"
    }
   ],
   "source": [
    "lst = [1,2,3]\n",
    "sum(lst)"
   ]
  },
  {
   "cell_type": "code",
   "execution_count": 89,
   "id": "e52e4d90",
   "metadata": {},
   "outputs": [
    {
     "data": {
      "text/plain": [
       "1"
      ]
     },
     "execution_count": 89,
     "metadata": {},
     "output_type": "execute_result"
    }
   ],
   "source": [
    "min(lst)"
   ]
  },
  {
   "cell_type": "code",
   "execution_count": 90,
   "id": "3ff13bb5",
   "metadata": {},
   "outputs": [
    {
     "data": {
      "text/plain": [
       "3"
      ]
     },
     "execution_count": 90,
     "metadata": {},
     "output_type": "execute_result"
    }
   ],
   "source": [
    "max(lst)"
   ]
  },
  {
   "cell_type": "code",
   "execution_count": 91,
   "id": "d678a848",
   "metadata": {},
   "outputs": [
    {
     "name": "stdout",
     "output_type": "stream",
     "text": [
      "amit\n"
     ]
    }
   ],
   "source": [
    "print(\"amit\")"
   ]
  },
  {
   "cell_type": "code",
   "execution_count": 92,
   "id": "ccb5341c",
   "metadata": {},
   "outputs": [
    {
     "data": {
      "text/plain": [
       "3"
      ]
     },
     "execution_count": 92,
     "metadata": {},
     "output_type": "execute_result"
    }
   ],
   "source": [
    "len(lst)"
   ]
  },
  {
   "cell_type": "code",
   "execution_count": 93,
   "id": "2a24a561",
   "metadata": {},
   "outputs": [
    {
     "data": {
      "text/plain": [
       "list"
      ]
     },
     "execution_count": 93,
     "metadata": {},
     "output_type": "execute_result"
    }
   ],
   "source": [
    "type(lst)"
   ]
  },
  {
   "cell_type": "code",
   "execution_count": 94,
   "id": "2676a285",
   "metadata": {},
   "outputs": [
    {
     "data": {
      "text/plain": [
       "'AMIT'"
      ]
     },
     "execution_count": 94,
     "metadata": {},
     "output_type": "execute_result"
    }
   ],
   "source": [
    "\"amit\".upper()"
   ]
  },
  {
   "cell_type": "code",
   "execution_count": 95,
   "id": "289e705f",
   "metadata": {},
   "outputs": [],
   "source": [
    "# str(\"\")\n",
    "# int()\n",
    "# float()"
   ]
  },
  {
   "cell_type": "code",
   "execution_count": 96,
   "id": "bf563ecc",
   "metadata": {},
   "outputs": [],
   "source": [
    "# def name(agrs):\n",
    "#     statement\n",
    "#     .\n",
    "#     .\n",
    "#     .\n",
    "#     .\n",
    "#     .\n",
    "#     .\n",
    "#     return x\n",
    "# name()"
   ]
  },
  {
   "cell_type": "code",
   "execution_count": 97,
   "id": "2bfdd8a9",
   "metadata": {},
   "outputs": [],
   "source": [
    "def add(n1 , n2):\n",
    "    x = n1 + n2\n",
    "    \n",
    "    return x"
   ]
  },
  {
   "cell_type": "code",
   "execution_count": 98,
   "id": "4e152eae",
   "metadata": {},
   "outputs": [
    {
     "data": {
      "text/plain": [
       "3"
      ]
     },
     "execution_count": 98,
     "metadata": {},
     "output_type": "execute_result"
    }
   ],
   "source": [
    "add(1,2)"
   ]
  },
  {
   "cell_type": "code",
   "execution_count": 99,
   "id": "1f17f4cc",
   "metadata": {},
   "outputs": [
    {
     "data": {
      "text/plain": [
       "5"
      ]
     },
     "execution_count": 99,
     "metadata": {},
     "output_type": "execute_result"
    }
   ],
   "source": [
    "add(2,3)"
   ]
  },
  {
   "cell_type": "code",
   "execution_count": 100,
   "id": "d49df31a",
   "metadata": {},
   "outputs": [
    {
     "data": {
      "text/plain": [
       "30"
      ]
     },
     "execution_count": 100,
     "metadata": {},
     "output_type": "execute_result"
    }
   ],
   "source": [
    "add(10,20)"
   ]
  },
  {
   "cell_type": "code",
   "execution_count": 2,
   "id": "ca6b4c98",
   "metadata": {},
   "outputs": [],
   "source": [
    "def say_hello(name):\n",
    "    print(\"Hello, \",name)"
   ]
  },
  {
   "cell_type": "code",
   "execution_count": 3,
   "id": "d4560945",
   "metadata": {},
   "outputs": [
    {
     "name": "stdout",
     "output_type": "stream",
     "text": [
      "Hello,  Amit\n"
     ]
    }
   ],
   "source": [
    "say_hello(\"Amit\")"
   ]
  },
  {
   "cell_type": "code",
   "execution_count": 4,
   "id": "78e82498",
   "metadata": {},
   "outputs": [],
   "source": [
    "def say_hello():\n",
    "    print(\"Hello\")"
   ]
  },
  {
   "cell_type": "code",
   "execution_count": 5,
   "id": "5ad3b741",
   "metadata": {},
   "outputs": [
    {
     "name": "stdout",
     "output_type": "stream",
     "text": [
      "Hello\n"
     ]
    }
   ],
   "source": [
    "say_hello()"
   ]
  },
  {
   "cell_type": "code",
   "execution_count": 8,
   "id": "98fb4ad9",
   "metadata": {},
   "outputs": [],
   "source": [
    "def add(n1= 0 ,n2 = 0):\n",
    "    return n1 + n2"
   ]
  },
  {
   "cell_type": "code",
   "execution_count": 10,
   "id": "f6342740",
   "metadata": {},
   "outputs": [
    {
     "data": {
      "text/plain": [
       "20"
      ]
     },
     "execution_count": 10,
     "metadata": {},
     "output_type": "execute_result"
    }
   ],
   "source": [
    "add(10,10)"
   ]
  },
  {
   "cell_type": "code",
   "execution_count": 18,
   "id": "54bfe139",
   "metadata": {},
   "outputs": [
    {
     "data": {
      "text/plain": [
       "6"
      ]
     },
     "execution_count": 18,
     "metadata": {},
     "output_type": "execute_result"
    }
   ],
   "source": [
    "l = [1,2,3]\n",
    "def add_lst(lst):\n",
    "    s = 0\n",
    "    for i in lst:\n",
    "        s = s + i\n",
    "    return s\n",
    "\n",
    "add_lst(l)"
   ]
  },
  {
   "cell_type": "code",
   "execution_count": 19,
   "id": "79c45488",
   "metadata": {},
   "outputs": [
    {
     "data": {
      "text/plain": [
       "10"
      ]
     },
     "execution_count": 19,
     "metadata": {},
     "output_type": "execute_result"
    }
   ],
   "source": [
    "x = [1,2,3,4] \n",
    "add_lst(x)"
   ]
  },
  {
   "cell_type": "code",
   "execution_count": 20,
   "id": "14524cdd",
   "metadata": {},
   "outputs": [],
   "source": [
    "def word_len(word):\n",
    "    print(f\"the len of word {word} is {len(word)}\") "
   ]
  },
  {
   "cell_type": "code",
   "execution_count": 25,
   "id": "53a8b852",
   "metadata": {},
   "outputs": [
    {
     "name": "stdout",
     "output_type": "stream",
     "text": [
      "enter your words machine learning\n"
     ]
    }
   ],
   "source": [
    "x = input(\"enter your words \")"
   ]
  },
  {
   "cell_type": "code",
   "execution_count": 26,
   "id": "066f1b31",
   "metadata": {},
   "outputs": [
    {
     "data": {
      "text/plain": [
       "'machine learning'"
      ]
     },
     "execution_count": 26,
     "metadata": {},
     "output_type": "execute_result"
    }
   ],
   "source": [
    "x"
   ]
  },
  {
   "cell_type": "code",
   "execution_count": 28,
   "id": "02ee8009",
   "metadata": {},
   "outputs": [
    {
     "name": "stdout",
     "output_type": "stream",
     "text": [
      "the len of word machine learning is 16\n"
     ]
    }
   ],
   "source": [
    "word_len(x)"
   ]
  },
  {
   "cell_type": "code",
   "execution_count": 29,
   "id": "197ca63e",
   "metadata": {},
   "outputs": [
    {
     "data": {
      "text/plain": [
       "16"
      ]
     },
     "execution_count": 29,
     "metadata": {},
     "output_type": "execute_result"
    }
   ],
   "source": [
    "len(x)"
   ]
  },
  {
   "cell_type": "code",
   "execution_count": 31,
   "id": "38216379",
   "metadata": {},
   "outputs": [],
   "source": [
    "l = x.split()"
   ]
  },
  {
   "cell_type": "code",
   "execution_count": 32,
   "id": "5838edf0",
   "metadata": {},
   "outputs": [
    {
     "data": {
      "text/plain": [
       "['machine', 'learning']"
      ]
     },
     "execution_count": 32,
     "metadata": {},
     "output_type": "execute_result"
    }
   ],
   "source": [
    "l"
   ]
  },
  {
   "cell_type": "code",
   "execution_count": 33,
   "id": "71afc162",
   "metadata": {},
   "outputs": [
    {
     "data": {
      "text/plain": [
       "'machine'"
      ]
     },
     "execution_count": 33,
     "metadata": {},
     "output_type": "execute_result"
    }
   ],
   "source": [
    "l[0]"
   ]
  },
  {
   "cell_type": "code",
   "execution_count": 34,
   "id": "bffefe47",
   "metadata": {},
   "outputs": [
    {
     "data": {
      "text/plain": [
       "'m'"
      ]
     },
     "execution_count": 34,
     "metadata": {},
     "output_type": "execute_result"
    }
   ],
   "source": [
    "l[0][0]"
   ]
  },
  {
   "cell_type": "code",
   "execution_count": 35,
   "id": "ec6d92ea",
   "metadata": {},
   "outputs": [
    {
     "data": {
      "text/plain": [
       "'learning'"
      ]
     },
     "execution_count": 35,
     "metadata": {},
     "output_type": "execute_result"
    }
   ],
   "source": [
    "l[1]"
   ]
  },
  {
   "cell_type": "code",
   "execution_count": 36,
   "id": "def55a61",
   "metadata": {},
   "outputs": [
    {
     "data": {
      "text/plain": [
       "'l'"
      ]
     },
     "execution_count": 36,
     "metadata": {},
     "output_type": "execute_result"
    }
   ],
   "source": [
    "l[1][0]"
   ]
  },
  {
   "cell_type": "code",
   "execution_count": 45,
   "id": "0d326351",
   "metadata": {},
   "outputs": [],
   "source": [
    "def check_char(words):\n",
    "    lst = words.split()\n",
    "    if lst[0][0] == lst[1][0]:\n",
    "        print(True)\n",
    "    else:\n",
    "        print(False)"
   ]
  },
  {
   "cell_type": "code",
   "execution_count": 46,
   "id": "3d431d9c",
   "metadata": {},
   "outputs": [
    {
     "name": "stdout",
     "output_type": "stream",
     "text": [
      "enter your string as as\n"
     ]
    }
   ],
   "source": [
    "x = input(\"enter your string \")"
   ]
  },
  {
   "cell_type": "code",
   "execution_count": 48,
   "id": "7ea0472b",
   "metadata": {},
   "outputs": [
    {
     "name": "stdout",
     "output_type": "stream",
     "text": [
      "True\n"
     ]
    }
   ],
   "source": [
    "check_char(x)"
   ]
  },
  {
   "cell_type": "code",
   "execution_count": 49,
   "id": "1ce37f50",
   "metadata": {},
   "outputs": [
    {
     "data": {
      "text/plain": [
       "'amit learning'"
      ]
     },
     "execution_count": 49,
     "metadata": {},
     "output_type": "execute_result"
    }
   ],
   "source": [
    "x = \"amit learning\"\n",
    "x[:]"
   ]
  },
  {
   "cell_type": "code",
   "execution_count": 50,
   "id": "82047aff",
   "metadata": {},
   "outputs": [
    {
     "data": {
      "text/plain": [
       "'gninrael tima'"
      ]
     },
     "execution_count": 50,
     "metadata": {},
     "output_type": "execute_result"
    }
   ],
   "source": [
    "x[: : -1]"
   ]
  },
  {
   "cell_type": "code",
   "execution_count": 51,
   "id": "35e6dff9",
   "metadata": {},
   "outputs": [
    {
     "data": {
      "text/plain": [
       "'lalal'"
      ]
     },
     "execution_count": 51,
     "metadata": {},
     "output_type": "execute_result"
    }
   ],
   "source": [
    "x = \"lalal\"\n",
    "x[:]"
   ]
  },
  {
   "cell_type": "code",
   "execution_count": 52,
   "id": "01e5af00",
   "metadata": {},
   "outputs": [
    {
     "data": {
      "text/plain": [
       "'lalal'"
      ]
     },
     "execution_count": 52,
     "metadata": {},
     "output_type": "execute_result"
    }
   ],
   "source": [
    "x[: : -1]"
   ]
  },
  {
   "cell_type": "code",
   "execution_count": 55,
   "id": "756b5d5e",
   "metadata": {},
   "outputs": [],
   "source": [
    "# \"lalal\"  >> True   or babab \n",
    "# else >>>  False  or lala\n",
    "def check(word):\n",
    "    if word == word[: : -1]:\n",
    "        print(True)\n",
    "    else:\n",
    "        print(False)"
   ]
  },
  {
   "cell_type": "code",
   "execution_count": 56,
   "id": "9da8548c",
   "metadata": {},
   "outputs": [
    {
     "name": "stdout",
     "output_type": "stream",
     "text": [
      "False\n"
     ]
    }
   ],
   "source": [
    "check(\"lala\")"
   ]
  },
  {
   "cell_type": "code",
   "execution_count": 57,
   "id": "91d6bfdf",
   "metadata": {},
   "outputs": [],
   "source": [
    "lst = [\"amit\" , \"learning\" , \"deep\" , \"machine\"]\n",
    "def lst_len(l):\n",
    "    \n",
    "    for i in l :\n",
    "        print(f\"the len of word {i} is {len(i)}\")"
   ]
  },
  {
   "cell_type": "code",
   "execution_count": 58,
   "id": "83cf366b",
   "metadata": {},
   "outputs": [
    {
     "name": "stdout",
     "output_type": "stream",
     "text": [
      "the len of word amit is 4\n",
      "the len of word learning is 8\n",
      "the len of word deep is 4\n",
      "the len of word machine is 7\n"
     ]
    }
   ],
   "source": [
    "lst_len(lst)"
   ]
  },
  {
   "cell_type": "code",
   "execution_count": 66,
   "id": "dde42348",
   "metadata": {},
   "outputs": [],
   "source": [
    "lst = [\"amit\" , \"learning\" , \"deep\" , \"machine\"]\n",
    "def max_len(l):\n",
    "    l_len = []\n",
    "    for i in l :\n",
    "        x = len(i)\n",
    "        l_len.append(x)\n",
    "    m = max(l_len)\n",
    "    index_word = l_len.index(m)\n",
    "    \n",
    "    print(f\"the len of the word {l[index_word]} is {m}\")\n",
    "    "
   ]
  },
  {
   "cell_type": "code",
   "execution_count": 67,
   "id": "80737370",
   "metadata": {},
   "outputs": [
    {
     "name": "stdout",
     "output_type": "stream",
     "text": [
      "the len of the word learning is 8\n"
     ]
    }
   ],
   "source": [
    "max_len(lst)"
   ]
  },
  {
   "cell_type": "code",
   "execution_count": 68,
   "id": "88ae25bd",
   "metadata": {},
   "outputs": [],
   "source": [
    "# def f(x):\n",
    "#     return f(x)"
   ]
  },
  {
   "cell_type": "code",
   "execution_count": 69,
   "id": "e21841af",
   "metadata": {},
   "outputs": [],
   "source": [
    "# !5 = 5 * 4 * 3 * 2 * 1 "
   ]
  },
  {
   "cell_type": "code",
   "execution_count": 70,
   "id": "e9ba3bba",
   "metadata": {},
   "outputs": [],
   "source": [
    "def f(n):\n",
    "    if n == 1:\n",
    "        return 1\n",
    "    else:\n",
    "        return n * f(n-1)   # 5 * (4 * (3 * (2 * (1))))"
   ]
  },
  {
   "cell_type": "code",
   "execution_count": 73,
   "id": "31bad0c5",
   "metadata": {},
   "outputs": [
    {
     "data": {
      "text/plain": [
       "2"
      ]
     },
     "execution_count": 73,
     "metadata": {},
     "output_type": "execute_result"
    }
   ],
   "source": [
    "f(2)"
   ]
  },
  {
   "cell_type": "code",
   "execution_count": 72,
   "id": "ab44a44c",
   "metadata": {},
   "outputs": [
    {
     "data": {
      "text/plain": [
       "1"
      ]
     },
     "execution_count": 72,
     "metadata": {},
     "output_type": "execute_result"
    }
   ],
   "source": [
    "f(1)"
   ]
  },
  {
   "cell_type": "code",
   "execution_count": 74,
   "id": "ab014926",
   "metadata": {},
   "outputs": [],
   "source": [
    "def add(n):"
   ]
  },
  {
   "cell_type": "code",
   "execution_count": null,
   "id": "fb7257ad",
   "metadata": {},
   "outputs": [],
   "source": []
  },
  {
   "attachments": {
    "image.png": {
     "image/png": "[encoded data removed]"
    }
   },
   "cell_type": "markdown",
   "id": "08c379d5",
   "metadata": {},
   "source": [
    "![image.png](attachment:image.png)"
   ]
  },
  {
   "cell_type": "code",
   "execution_count": 96,
   "id": "f2075ade",
   "metadata": {},
   "outputs": [
    {
     "data": {
      "text/plain": [
       "[4, 6, 8, 12]"
      ]
     },
     "execution_count": 96,
     "metadata": {},
     "output_type": "execute_result"
    }
   ],
   "source": [
    "l = [1,5,4,6,8,11,3,12]\n",
    "list(filter(lambda x : (x % 2 == 0) , l))"
   ]
  },
  {
   "attachments": {
    "image.png": {
     "image/png": "[encoded data removed]"
    }
   },
   "cell_type": "markdown",
   "id": "a9fe8c2b",
   "metadata": {},
   "source": [
    "![image.png](attachment:image.png)"
   ]
  },
  {
   "cell_type": "code",
   "execution_count": 97,
   "id": "51d1f78f",
   "metadata": {},
   "outputs": [
    {
     "data": {
      "text/plain": [
       "6"
      ]
     },
     "execution_count": 97,
     "metadata": {},
     "output_type": "execute_result"
    }
   ],
   "source": [
    "h_o_f = lambda x , f : x + f(x)   # f = lambda y : y * y\n",
    "h_o_f(2 , lambda y : y * y )"
   ]
  },
  {
   "cell_type": "code",
   "execution_count": 79,
   "id": "34c51665",
   "metadata": {},
   "outputs": [],
   "source": [
    "# lambda \n",
    "def add(n1,n2):\n",
    "    return n1+n2"
   ]
  },
  {
   "cell_type": "code",
   "execution_count": 80,
   "id": "f5d7f292",
   "metadata": {},
   "outputs": [
    {
     "data": {
      "text/plain": [
       "4"
      ]
     },
     "execution_count": 80,
     "metadata": {},
     "output_type": "execute_result"
    }
   ],
   "source": [
    "add(2,2)"
   ]
  },
  {
   "cell_type": "code",
   "execution_count": 83,
   "id": "a8c28879",
   "metadata": {},
   "outputs": [],
   "source": [
    "# lambda args:expre\n",
    "d = lambda n1 , n2 : n1 + n2"
   ]
  },
  {
   "cell_type": "code",
   "execution_count": 84,
   "id": "e84e20ba",
   "metadata": {},
   "outputs": [
    {
     "data": {
      "text/plain": [
       "4"
      ]
     },
     "execution_count": 84,
     "metadata": {},
     "output_type": "execute_result"
    }
   ],
   "source": [
    "d(2,2)"
   ]
  },
  {
   "cell_type": "code",
   "execution_count": 86,
   "id": "21c093eb",
   "metadata": {},
   "outputs": [],
   "source": [
    "def add(x):\n",
    "    return x * 2  "
   ]
  },
  {
   "cell_type": "code",
   "execution_count": 87,
   "id": "aa4deb4d",
   "metadata": {},
   "outputs": [
    {
     "data": {
      "text/plain": [
       "[2, 4, 6]"
      ]
     },
     "execution_count": 87,
     "metadata": {},
     "output_type": "execute_result"
    }
   ],
   "source": [
    "# list(map(fun , seq))\n",
    "lst = [1,2,3]\n",
    "list(map( add , lst))"
   ]
  },
  {
   "cell_type": "code",
   "execution_count": 88,
   "id": "905c1132",
   "metadata": {},
   "outputs": [],
   "source": [
    "def add(n1 ,n2):\n",
    "    return n1+n2"
   ]
  },
  {
   "cell_type": "code",
   "execution_count": null,
   "id": "41dfc27e",
   "metadata": {},
   "outputs": [],
   "source": [
    "lambda n1 , n2 : n1+n2"
   ]
  },
  {
   "cell_type": "code",
   "execution_count": 94,
   "id": "0c369aa4",
   "metadata": {},
   "outputs": [],
   "source": [
    "def check(n):\n",
    "    if n % 2 != 0:\n",
    "        return True"
   ]
  },
  {
   "cell_type": "code",
   "execution_count": 95,
   "id": "3c523ba2",
   "metadata": {},
   "outputs": [
    {
     "data": {
      "text/plain": [
       "[1, 5, 11, 3]"
      ]
     },
     "execution_count": 95,
     "metadata": {},
     "output_type": "execute_result"
    }
   ],
   "source": [
    "l = [1,5,4,6,8,11,3,12]\n",
    "list(filter(check , l))"
   ]
  },
  {
   "cell_type": "code",
   "execution_count": 98,
   "id": "ff6bf9cf",
   "metadata": {},
   "outputs": [
    {
     "name": "stdout",
     "output_type": "stream",
     "text": [
      "x inside:  global\n",
      "x outside:  global\n"
     ]
    }
   ],
   "source": [
    "x = \"global\"\n",
    "def foo():\n",
    "    print(\"x inside: \" , x)\n",
    "foo()\n",
    "print(\"x outside: \" , x)"
   ]
  },
  {
   "cell_type": "code",
   "execution_count": 99,
   "id": "9d3105f7",
   "metadata": {},
   "outputs": [
    {
     "name": "stdout",
     "output_type": "stream",
     "text": [
      "x inside:  local\n",
      "x outside:  global\n"
     ]
    }
   ],
   "source": [
    "x = \"global\"\n",
    "def foo():\n",
    "    x = \"local\"\n",
    "    print(\"x inside: \" , x)\n",
    "foo()\n",
    "print(\"x outside: \" , x)"
   ]
  },
  {
   "cell_type": "code",
   "execution_count": 100,
   "id": "a870baf2",
   "metadata": {},
   "outputs": [
    {
     "name": "stdout",
     "output_type": "stream",
     "text": [
      "x inside:  local\n",
      "x outside:  local\n"
     ]
    }
   ],
   "source": [
    "x = \"global\"\n",
    "def foo():\n",
    "    global x\n",
    "    x = \"local\"\n",
    "    print(\"x inside: \" , x)\n",
    "foo()\n",
    "print(\"x outside: \" , x)"
   ]
  },
  {
   "cell_type": "code",
   "execution_count": 101,
   "id": "8d2a00e7",
   "metadata": {},
   "outputs": [
    {
     "name": "stdout",
     "output_type": "stream",
     "text": [
      "l\n"
     ]
    }
   ],
   "source": [
    "x = \"g\"\n",
    "x = \"l\"\n",
    "print(x)"
   ]
  },
  {
   "cell_type": "code",
   "execution_count": 104,
   "id": "c7815eb4",
   "metadata": {},
   "outputs": [
    {
     "name": "stdout",
     "output_type": "stream",
     "text": [
      "inner  nonlocal\n",
      "outer  local\n",
      "outside  nonlocal\n"
     ]
    }
   ],
   "source": [
    "x = \"global\"\n",
    "def outer():\n",
    "    x = \"local\"\n",
    "    def inner():\n",
    "        global x \n",
    "        x = \"nonlocal\"\n",
    "        print(\"inner \",x)\n",
    "    inner()\n",
    "    print(\"outer \" , x)\n",
    "    \n",
    "outer()\n",
    "print(\"outside \" , x)"
   ]
  },
  {
   "cell_type": "code",
   "execution_count": 108,
   "id": "838b58d7",
   "metadata": {},
   "outputs": [
    {
     "name": "stdout",
     "output_type": "stream",
     "text": [
      "inner  nonlocal\n",
      "outer  nonlocal\n",
      "outside  global\n"
     ]
    }
   ],
   "source": [
    "x = \"global\"\n",
    "def outer():\n",
    "    x = \"local\"\n",
    "    def inner():\n",
    "        nonlocal x \n",
    "        x = \"nonlocal\"\n",
    "        print(\"inner \",x)\n",
    "    inner()\n",
    "    print(\"outer \" , x)\n",
    "    \n",
    "outer()\n",
    "print(\"outside \" , x)"
   ]
  },
  {
   "cell_type": "code",
   "execution_count": 109,
   "id": "3a6717dd",
   "metadata": {},
   "outputs": [],
   "source": [
    "import random as rn "
   ]
  },
  {
   "cell_type": "code",
   "execution_count": 116,
   "id": "92f72a1a",
   "metadata": {},
   "outputs": [
    {
     "data": {
      "text/plain": [
       "0.11657244724798943"
      ]
     },
     "execution_count": 116,
     "metadata": {},
     "output_type": "execute_result"
    }
   ],
   "source": [
    "rn.random() # 0 to 1 "
   ]
  },
  {
   "cell_type": "code",
   "execution_count": 127,
   "id": "ec7f34c3",
   "metadata": {},
   "outputs": [
    {
     "data": {
      "text/plain": [
       "3"
      ]
     },
     "execution_count": 127,
     "metadata": {},
     "output_type": "execute_result"
    }
   ],
   "source": [
    "rn.randint(1,10)  # x and y included"
   ]
  },
  {
   "cell_type": "code",
   "execution_count": 131,
   "id": "ec32d9a7",
   "metadata": {},
   "outputs": [
    {
     "data": {
      "text/plain": [
       "9"
      ]
     },
     "execution_count": 131,
     "metadata": {},
     "output_type": "execute_result"
    }
   ],
   "source": [
    "rn.randrange(1,10) # y excluded"
   ]
  },
  {
   "cell_type": "code",
   "execution_count": 139,
   "id": "d395c054",
   "metadata": {},
   "outputs": [
    {
     "data": {
      "text/plain": [
       "'amit'"
      ]
     },
     "execution_count": 139,
     "metadata": {},
     "output_type": "execute_result"
    }
   ],
   "source": [
    "rn.choice([\"amit\" , \"learning\"])"
   ]
  },
  {
   "cell_type": "code",
   "execution_count": 140,
   "id": "a3eda7e2",
   "metadata": {},
   "outputs": [],
   "source": [
    "lst = [1,2,3,4,5,6]\n",
    "rn.shuffle(lst)"
   ]
  },
  {
   "cell_type": "code",
   "execution_count": 141,
   "id": "7610d325",
   "metadata": {},
   "outputs": [
    {
     "data": {
      "text/plain": [
       "[2, 6, 4, 1, 3, 5]"
      ]
     },
     "execution_count": 141,
     "metadata": {},
     "output_type": "execute_result"
    }
   ],
   "source": [
    "lst"
   ]
  },
  {
   "cell_type": "code",
   "execution_count": 181,
   "id": "091cf4c2",
   "metadata": {},
   "outputs": [
    {
     "data": {
      "text/html": [
       "<style>#sk-container-id-14 {color: black;background-color: white;}#sk-container-id-14 pre{padding: 0;}#sk-container-id-14 div.sk-toggleable {background-color: white;}#sk-container-id-14 label.sk-toggleable__label {cursor: pointer;display: block;width: 100%;margin-bottom: 0;padding: 0.3em;box-sizing: border-box;text-align: center;}#sk-container-id-14 label.sk-toggleable__label-arrow:before {content: \"▸\";float: left;margin-right: 0.25em;color: #696969;}#sk-container-id-14 label.sk-toggleable__label-arrow:hover:before {color: black;}#sk-container-id-14 div.sk-estimator:hover label.sk-toggleable__label-arrow:before {color: black;}#sk-container-id-14 div.sk-toggleable__content {max-height: 0;max-width: 0;overflow: hidden;text-align: left;background-color: #f0f8ff;}#sk-container-id-14 div.sk-toggleable__content pre {margin: 0.2em;color: black;border-radius: 0.25em;background-color: #f0f8ff;}#sk-container-id-14 input.sk-toggleable__control:checked~div.sk-toggleable__content {max-height: 200px;max-width: 100%;overflow: auto;}#sk-container-id-14 input.sk-toggleable__control:checked~label.sk-toggleable__label-arrow:before {content: \"▾\";}#sk-container-id-14 div.sk-estimator input.sk-toggleable__control:checked~label.sk-toggleable__label {background-color: #d4ebff;}#sk-container-id-14 div.sk-label input.sk-toggleable__control:checked~label.sk-toggleable__label {background-color: #d4ebff;}#sk-container-id-14 input.sk-hidden--visually {border: 0;clip: rect(1px 1px 1px 1px);clip: rect(1px, 1px, 1px, 1px);height: 1px;margin: -1px;overflow: hidden;padding: 0;position: absolute;width: 1px;}#sk-container-id-14 div.sk-estimator {font-family: monospace;background-color: #f0f8ff;border: 1px dotted black;border-radius: 0.25em;box-sizing: border-box;margin-bottom: 0.5em;}#sk-container-id-14 div.sk-estimator:hover {background-color: #d4ebff;}#sk-container-id-14 div.sk-parallel-item::after {content: \"\";width: 100%;border-bottom: 1px solid gray;flex-grow: 1;}#sk-container-id-14 div.sk-label:hover label.sk-toggleable__label {background-color: #d4ebff;}#sk-container-id-14 div.sk-serial::before {content: \"\";position: absolute;border-left: 1px solid gray;box-sizing: border-box;top: 0;bottom: 0;left: 50%;z-index: 0;}#sk-container-id-14 div.sk-serial {display: flex;flex-direction: column;align-items: center;background-color: white;padding-right: 0.2em;padding-left: 0.2em;position: relative;}#sk-container-id-14 div.sk-item {position: relative;z-index: 1;}#sk-container-id-14 div.sk-parallel {display: flex;align-items: stretch;justify-content: center;background-color: white;position: relative;}#sk-container-id-14 div.sk-item::before, #sk-container-id-14 div.sk-parallel-item::before {content: \"\";position: absolute;border-left: 1px solid gray;box-sizing: border-box;top: 0;bottom: 0;left: 50%;z-index: -1;}#sk-container-id-14 div.sk-parallel-item {display: flex;flex-direction: column;z-index: 1;position: relative;background-color: white;}#sk-container-id-14 div.sk-parallel-item:first-child::after {align-self: flex-end;width: 50%;}#sk-container-id-14 div.sk-parallel-item:last-child::after {align-self: flex-start;width: 50%;}#sk-container-id-14 div.sk-parallel-item:only-child::after {width: 0;}#sk-container-id-14 div.sk-dashed-wrapped {border: 1px dashed gray;margin: 0 0.4em 0.5em 0.4em;box-sizing: border-box;padding-bottom: 0.4em;background-color: white;}#sk-container-id-14 div.sk-label label {font-family: monospace;font-weight: bold;display: inline-block;line-height: 1.2em;}#sk-container-id-14 div.sk-label-container {text-align: center;}#sk-container-id-14 div.sk-container {/* jupyter's `normalize.less` sets `[hidden] { display: none; }` but bootstrap.min.css set `[hidden] { display: none !important; }` so we also need the `!important` here to be able to override the default hidden behavior on the sphinx rendered scikit-learn.org. See: https://github.com/scikit-learn/scikit-learn/issues/21755 */display: inline-block !important;position: relative;}#sk-container-id-14 div.sk-text-repr-fallback {display: none;}</style><div id=\"sk-container-id-14\" class=\"sk-top-container\"><div class=\"sk-text-repr-fallback\"><pre>Ridge(alpha=0.0)</pre><b>In a Jupyter environment, please rerun this cell to show the HTML representation or trust the notebook. <br />On GitHub, the HTML representation is unable to render, please try loading this page with nbviewer.org.</b></div><div class=\"sk-container\" hidden><div class=\"sk-item\"><div class=\"sk-estimator sk-toggleable\"><input class=\"sk-toggleable__control sk-hidden--visually\" id=\"sk-estimator-id-14\" type=\"checkbox\" checked><label for=\"sk-estimator-id-14\" class=\"sk-toggleable__label sk-toggleable__label-arrow\">Ridge</label><div class=\"sk-toggleable__content\"><pre>Ridge(alpha=0.0)</pre></div></div></div></div></div>"
      ],
      "text/plain": [
       "Ridge(alpha=0.0)"
      ]
     },
     "execution_count": 181,
     "metadata": {},
     "output_type": "execute_result"
    }
   ],
   "source": [
    "from sklearn.linear_model import Ridge , LinearRegression\n",
    "from sklearn.metrics import r2_score\n",
    "import numpy as np\n",
    "n_samples, n_features = 10, 5\n",
    "rng = np.random.RandomState(0)\n",
    "y = rng.randn(n_samples)\n",
    "X = rng.randn(n_samples, n_features)\n",
    "clf = Ridge(alpha=0.0)\n",
    "clf.fit(X, y)"
   ]
  },
  {
   "cell_type": "code",
   "execution_count": 182,
   "id": "6a58bc3e",
   "metadata": {},
   "outputs": [],
   "source": [
    "pred = clf.predict(X)"
   ]
  },
  {
   "cell_type": "code",
   "execution_count": 183,
   "id": "f00c26aa",
   "metadata": {},
   "outputs": [
    {
     "data": {
      "text/plain": [
       "0.8974344752402248"
      ]
     },
     "execution_count": 183,
     "metadata": {},
     "output_type": "execute_result"
    }
   ],
   "source": [
    "r2_score(y , pred)"
   ]
  },
  {
   "cell_type": "code",
   "execution_count": null,
   "id": "45741888",
   "metadata": {},
   "outputs": [],
   "source": []
  },
  {
   "cell_type": "code",
   "execution_count": 186,
   "id": "2d481708",
   "metadata": {},
   "outputs": [
    {
     "data": {
      "text/plain": [
       "0.8974344752402248"
      ]
     },
     "execution_count": 186,
     "metadata": {},
     "output_type": "execute_result"
    }
   ],
   "source": [
    "clf = LinearRegression()\n",
    "clf.fit(X, y)\n",
    "pred = clf.predict(X)\n",
    "r2_score(y , pred)"
   ]
  },
  {
   "cell_type": "code",
   "execution_count": 187,
   "id": "af18f2aa",
   "metadata": {},
   "outputs": [
    {
     "name": "stdout",
     "output_type": "stream",
     "text": [
      "Mean MAE: 3.382 (0.519)\n"
     ]
    }
   ],
   "source": [
    "\n",
    "# evaluate an ridge regression model on the dataset\n",
    "from numpy import mean\n",
    "from numpy import std\n",
    "from numpy import absolute\n",
    "from pandas import read_csv\n",
    "from sklearn.model_selection import cross_val_score\n",
    "from sklearn.model_selection import RepeatedKFold\n",
    "from sklearn.linear_model import Ridge\n",
    "# load the dataset\n",
    "url = 'https://raw.githubusercontent.com/jbrownlee/Datasets/master/housing.csv'\n",
    "dataframe = read_csv(url, header=None)\n",
    "data = dataframe.values\n",
    "X, y = data[:, :-1], data[:, -1]\n",
    "# define model\n",
    "model = Ridge(alpha=1.0)\n",
    "# define model evaluation method\n",
    "cv = RepeatedKFold(n_splits=10, n_repeats=3, random_state=1)\n",
    "# evaluate model\n",
    "scores = cross_val_score(model, X, y, scoring='neg_mean_absolute_error', cv=cv, n_jobs=-1)\n",
    "# force scores to be positive\n",
    "scores = absolute(scores)\n",
    "print('Mean MAE: %.3f (%.3f)' % (mean(scores), std(scores)))"
   ]
  },
  {
   "cell_type": "code",
   "execution_count": null,
   "id": "d2655653",
   "metadata": {},
   "outputs": [],
   "source": []
  }
 ],
 "metadata": {
  "kernelspec": {
   "display_name": "Python 3 (ipykernel)",
   "language": "python",
   "name": "python3"
  },
  "language_info": {
   "codemirror_mode": {
    "name": "ipython",
    "version": 3
   },
   "file_extension": ".py",
   "mimetype": "text/x-python",
   "name": "python",
   "nbconvert_exporter": "python",
   "pygments_lexer": "ipython3",
   "version": "3.10.9"
  }
 },
 "nbformat": 4,
 "nbformat_minor": 5
}
