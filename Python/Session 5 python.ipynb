{
 "cells": [
  {
   "cell_type": "code",
   "execution_count": 4,
   "id": "84ddf7c6",
   "metadata": {},
   "outputs": [],
   "source": [
    "x = 10\n",
    "y = 20 "
   ]
  },
  {
   "cell_type": "code",
   "execution_count": 5,
   "id": "f81d9273",
   "metadata": {},
   "outputs": [
    {
     "data": {
      "text/plain": [
       "30"
      ]
     },
     "execution_count": 5,
     "metadata": {},
     "output_type": "execute_result"
    }
   ],
   "source": [
    "x + y"
   ]
  },
  {
   "cell_type": "code",
   "execution_count": 6,
   "id": "5f598ada",
   "metadata": {},
   "outputs": [],
   "source": [
    "def add(n1 ,n2):\n",
    "    return n1+n2"
   ]
  },
  {
   "cell_type": "code",
   "execution_count": 7,
   "id": "9954f5e9",
   "metadata": {},
   "outputs": [
    {
     "data": {
      "text/plain": [
       "30"
      ]
     },
     "execution_count": 7,
     "metadata": {},
     "output_type": "execute_result"
    }
   ],
   "source": [
    "add(x , y )"
   ]
  },
  {
   "cell_type": "code",
   "execution_count": null,
   "id": "a8fbf095",
   "metadata": {},
   "outputs": [],
   "source": [
    "# Ele_1_poition = 3 \n",
    "# die_or_not = False \n",
    "# color='white'\n",
    "\n",
    "# Ele_1_poition = 3 \n",
    "# die_or_not = False \n",
    "# color='white'\n",
    "\n",
    "# Ele_1_poition = 3 \n",
    "# die_or_not = False \n",
    "# color='white'\n",
    "\n",
    "# Ele_1_poition = 3 \n",
    "# die_or_not = False \n",
    "# color='white'"
   ]
  },
  {
   "cell_type": "code",
   "execution_count": null,
   "id": "6ea4901e",
   "metadata": {},
   "outputs": [],
   "source": [
    "# Ele_1_poition = 3 \n",
    "# die_or_not = False \n",
    "# color='white'"
   ]
  },
  {
   "cell_type": "code",
   "execution_count": 91,
   "id": "57cb6b92",
   "metadata": {},
   "outputs": [],
   "source": [
    "class Cars:\n",
    "    #class attribute\n",
    "    counter = 0\n",
    "#     color = \"black\"\n",
    "    def __init__(self ,name , speed):\n",
    "        #instance attributes\n",
    "        self.namee = name\n",
    "        self.speedd = speed \n",
    "        Cars.counter  += 1\n",
    "    #instance method >> method == function\n",
    "    def show(self):\n",
    "        print(f\"car name is {self.namee} and speed is {self.speedd}\")\n",
    "    #instance method\n",
    "    def move(self , x):\n",
    "        print(f\"the car name is {self.namee} , move to {x}\")\n",
    "    #class method\n",
    "    @classmethod\n",
    "    def show_count(cls):\n",
    "        print(f\"number of cars is {cls.counter}\")\n",
    "    @staticmethod\n",
    "    def add(n1 , n2):\n",
    "        return n1+n2"
   ]
  },
  {
   "cell_type": "code",
   "execution_count": 92,
   "id": "ed08ba95",
   "metadata": {},
   "outputs": [],
   "source": [
    "BMW = Cars(\"BMW\" , 250)"
   ]
  },
  {
   "cell_type": "code",
   "execution_count": 93,
   "id": "25749eb5",
   "metadata": {},
   "outputs": [],
   "source": [
    "FIAT = Cars(\"FIAT\" , 150)"
   ]
  },
  {
   "cell_type": "code",
   "execution_count": 101,
   "id": "8c411434",
   "metadata": {},
   "outputs": [
    {
     "name": "stdout",
     "output_type": "stream",
     "text": [
      "BMW\n",
      "250\n"
     ]
    }
   ],
   "source": [
    "# self.namee\n",
    "print(BMW.namee)\n",
    "print(BMW.speedd)\n",
    "BMW.namee = \"bmw\""
   ]
  },
  {
   "cell_type": "code",
   "execution_count": 95,
   "id": "ee9479ae",
   "metadata": {},
   "outputs": [
    {
     "name": "stdout",
     "output_type": "stream",
     "text": [
      "FIAT\n",
      "150\n"
     ]
    }
   ],
   "source": [
    "print(FIAT.namee)\n",
    "print(FIAT.speedd)"
   ]
  },
  {
   "cell_type": "code",
   "execution_count": 96,
   "id": "eb7cc871",
   "metadata": {},
   "outputs": [
    {
     "name": "stdout",
     "output_type": "stream",
     "text": [
      "car name is FIAT and speed is 150\n"
     ]
    }
   ],
   "source": [
    "FIAT.show()"
   ]
  },
  {
   "cell_type": "code",
   "execution_count": 102,
   "id": "37b6898f",
   "metadata": {},
   "outputs": [
    {
     "name": "stdout",
     "output_type": "stream",
     "text": [
      "car name is bmw and speed is 250\n"
     ]
    }
   ],
   "source": [
    "BMW.show()"
   ]
  },
  {
   "cell_type": "code",
   "execution_count": 98,
   "id": "b7c84700",
   "metadata": {},
   "outputs": [
    {
     "name": "stdout",
     "output_type": "stream",
     "text": [
      "the car name is BMW , move to left\n"
     ]
    }
   ],
   "source": [
    "BMW.move(\"left\")"
   ]
  },
  {
   "cell_type": "code",
   "execution_count": 99,
   "id": "dada3dc0",
   "metadata": {},
   "outputs": [
    {
     "name": "stdout",
     "output_type": "stream",
     "text": [
      "number of cars is 2\n"
     ]
    }
   ],
   "source": [
    "Cars.show_count()\n",
    "# BMW.show_count()"
   ]
  },
  {
   "cell_type": "code",
   "execution_count": 100,
   "id": "1d2ca9d1",
   "metadata": {},
   "outputs": [
    {
     "data": {
      "text/plain": [
       "3"
      ]
     },
     "execution_count": 100,
     "metadata": {},
     "output_type": "execute_result"
    }
   ],
   "source": [
    "BMW.add(1,2)"
   ]
  },
  {
   "cell_type": "code",
   "execution_count": null,
   "id": "9208d016",
   "metadata": {},
   "outputs": [],
   "source": [
    "define class name \"Student\" \"name\" , \"age\" , \"address\"\n",
    "instance method \"show\"  >>> student name,  age and address \n",
    "class method \"student_count\" \n",
    "static method \"sumofgrades\" >> return sum of grades   >> add(*n) \n"
   ]
  },
  {
   "cell_type": "code",
   "execution_count": null,
   "id": "7062aaea",
   "metadata": {},
   "outputs": [],
   "source": []
  },
  {
   "cell_type": "code",
   "execution_count": 114,
   "id": "312ccbb4",
   "metadata": {},
   "outputs": [],
   "source": [
    "class Cars:\n",
    "    def __init__(self ,name , speed):\n",
    "        #instance attributes\n",
    "        self.__namee = name\n",
    "        self.__speedd = speed \n",
    "    #instance method >> method == function\n",
    "    def show(self):\n",
    "        print(f\"car name is {self.__namee} and speed is {self.__speedd}\")"
   ]
  },
  {
   "cell_type": "code",
   "execution_count": 115,
   "id": "188bb225",
   "metadata": {},
   "outputs": [],
   "source": [
    "bmw = Cars(\"BMW\" , 250)"
   ]
  },
  {
   "cell_type": "code",
   "execution_count": 116,
   "id": "ea02bb43",
   "metadata": {},
   "outputs": [
    {
     "name": "stdout",
     "output_type": "stream",
     "text": [
      "car name is BMW and speed is 250\n"
     ]
    }
   ],
   "source": [
    "bmw.show()"
   ]
  },
  {
   "cell_type": "code",
   "execution_count": 117,
   "id": "0a191212",
   "metadata": {},
   "outputs": [],
   "source": [
    "bmw.namee =\"FIAT\" "
   ]
  },
  {
   "cell_type": "code",
   "execution_count": 118,
   "id": "223cc77f",
   "metadata": {},
   "outputs": [
    {
     "data": {
      "text/plain": [
       "'FIAT'"
      ]
     },
     "execution_count": 118,
     "metadata": {},
     "output_type": "execute_result"
    }
   ],
   "source": [
    "bmw.namee"
   ]
  },
  {
   "cell_type": "code",
   "execution_count": 119,
   "id": "60baf07d",
   "metadata": {},
   "outputs": [
    {
     "name": "stdout",
     "output_type": "stream",
     "text": [
      "car name is BMW and speed is 250\n"
     ]
    }
   ],
   "source": [
    "bmw.show()"
   ]
  },
  {
   "cell_type": "code",
   "execution_count": 126,
   "id": "59030cfb",
   "metadata": {},
   "outputs": [],
   "source": [
    "Cars.__namee = \"FIAT\""
   ]
  },
  {
   "cell_type": "code",
   "execution_count": 127,
   "id": "678dad65",
   "metadata": {},
   "outputs": [
    {
     "name": "stdout",
     "output_type": "stream",
     "text": [
      "car name is BMW and speed is 250\n"
     ]
    }
   ],
   "source": [
    "bmw.show()"
   ]
  },
  {
   "cell_type": "code",
   "execution_count": null,
   "id": "1cad78cd",
   "metadata": {},
   "outputs": [],
   "source": [
    "class BMW:\n",
    "    move(\"hello BMw\")\n",
    "class FIAT:\n",
    "    move(\"hello FIAT\")\n",
    "class mer:\n",
    "    move(\"hello mer\")\n",
    "    "
   ]
  },
  {
   "cell_type": "code",
   "execution_count": 128,
   "id": "f5a7b21c",
   "metadata": {},
   "outputs": [
    {
     "data": {
      "text/plain": [
       "4"
      ]
     },
     "execution_count": 128,
     "metadata": {},
     "output_type": "execute_result"
    }
   ],
   "source": [
    "lst = [1,2,3,4]\n",
    "len(lst)"
   ]
  },
  {
   "cell_type": "code",
   "execution_count": 130,
   "id": "80fa7877",
   "metadata": {},
   "outputs": [
    {
     "data": {
      "text/plain": [
       "8"
      ]
     },
     "execution_count": 130,
     "metadata": {},
     "output_type": "execute_result"
    }
   ],
   "source": [
    "s = \"amitdfdf\"\n",
    "len(s)"
   ]
  },
  {
   "cell_type": "code",
   "execution_count": 131,
   "id": "bd6c950b",
   "metadata": {},
   "outputs": [],
   "source": [
    "class Cars:\n",
    "    def __init__(self ,name , speed):\n",
    "        #instance attributes\n",
    "        self.namee = name\n",
    "        self.speedd = speed \n",
    "    #instance method >> method == function\n",
    "    def show(self):\n",
    "        print(f\"car name is {self.namee} and speed is {self.speedd}\")"
   ]
  },
  {
   "cell_type": "code",
   "execution_count": 132,
   "id": "303aee4d",
   "metadata": {},
   "outputs": [],
   "source": [
    "class BMW(Cars):\n",
    "    pass"
   ]
  },
  {
   "cell_type": "code",
   "execution_count": 136,
   "id": "2a73060a",
   "metadata": {},
   "outputs": [],
   "source": [
    "class FIAT(Cars):\n",
    "    pass"
   ]
  },
  {
   "cell_type": "code",
   "execution_count": 137,
   "id": "0717b607",
   "metadata": {},
   "outputs": [],
   "source": [
    "bmw1 = BMW(\"bm1\" , 250)"
   ]
  },
  {
   "cell_type": "code",
   "execution_count": 138,
   "id": "5f8fe880",
   "metadata": {},
   "outputs": [
    {
     "name": "stdout",
     "output_type": "stream",
     "text": [
      "car name is bm1 and speed is 250\n"
     ]
    }
   ],
   "source": [
    "bmw1.show()"
   ]
  },
  {
   "cell_type": "code",
   "execution_count": 139,
   "id": "e1f9e6ba",
   "metadata": {},
   "outputs": [],
   "source": [
    "Fiat1 = FIAT(\"f1\",230)"
   ]
  },
  {
   "cell_type": "code",
   "execution_count": 140,
   "id": "e9f2ee46",
   "metadata": {},
   "outputs": [
    {
     "name": "stdout",
     "output_type": "stream",
     "text": [
      "car name is f1 and speed is 230\n"
     ]
    }
   ],
   "source": [
    "Fiat1.show()"
   ]
  },
  {
   "cell_type": "code",
   "execution_count": null,
   "id": "3fd286de",
   "metadata": {},
   "outputs": [],
   "source": [
    "We define a ShoppingCart class representing a shopping cart. It has an attribute called items, which is initially an empty list.\n",
    "The \"add_item()\" method takes an item name and quantity as arguments and adds them as a tuple to the items list. This adds the item to the cart.\n",
    "The \"remove_item()\" method removes the first occurrence of an item with the specified name from the items list. It iterates over the list and checks if the current item's name matches the specified name. If a match is found, it removes the item from the list and breaks out of the loop.\n",
    "The \"calculate_total()\" method calculates and returns the total quantity of all items in the cart. It iterates over the items list and accumulates the quantity of each item.\n",
    "In the example usage section, we create an instance of the ShoppingCart class called cart. We add several items to the cart using the \"add_item()\" method and display the current items in the cart.\n",
    "We calculate and display the total quantity of items using the \"calculate_total()\" method.\n",
    "The \"remove_item()\" method is used to remove an item from the cart and then display the updated items."
   ]
  },
  {
   "cell_type": "code",
   "execution_count": 145,
   "id": "0f92374d",
   "metadata": {},
   "outputs": [],
   "source": [
    "class ShoppingCart:\n",
    "    def __init__(self):\n",
    "        self.items = []\n",
    "    "
   ]
  },
  {
   "cell_type": "code",
   "execution_count": 146,
   "id": "cfec04df",
   "metadata": {},
   "outputs": [],
   "source": [
    "cart1 = ShoppingCart()"
   ]
  },
  {
   "cell_type": "code",
   "execution_count": null,
   "id": "2cb1540e",
   "metadata": {},
   "outputs": [],
   "source": [
    "cart1.add_item(\"item_name\" , price)\n",
    "cart1.remove_item(\"item1\")\n",
    "cart1.calculate_total()\n",
    "cart1.show()  >> return itmes \n",
    ">> 12+20"
   ]
  },
  {
   "cell_type": "code",
   "execution_count": 144,
   "id": "6a967124",
   "metadata": {},
   "outputs": [
    {
     "name": "stdout",
     "output_type": "stream",
     "text": [
      "32\n"
     ]
    }
   ],
   "source": [
    "s=0\n",
    "for i in self.items:\n",
    "    s += i[1]\n",
    "print(s)"
   ]
  },
  {
   "cell_type": "code",
   "execution_count": 162,
   "id": "8595b842",
   "metadata": {},
   "outputs": [],
   "source": [
    "def isPalindrome(x):\n",
    "    # Base condition\n",
    "    if x < 0:\n",
    "        return False\n",
    "    # Store the number in a variable\n",
    "    number = x\n",
    "    # This will store the reverse of the number\n",
    "    reverse = 0\n",
    "    while number:\n",
    "        print(number)\n",
    "        print(reverse)\n",
    "        reverse = reverse * 10 + number % 10\n",
    "        number //= 10\n",
    "    return x == reverse\n"
   ]
  },
  {
   "cell_type": "code",
   "execution_count": 163,
   "id": "e5e44e1a",
   "metadata": {},
   "outputs": [
    {
     "name": "stdout",
     "output_type": "stream",
     "text": [
      "101\n",
      "0\n",
      "10\n",
      "1\n",
      "1\n",
      "10\n"
     ]
    },
    {
     "data": {
      "text/plain": [
       "True"
      ]
     },
     "execution_count": 163,
     "metadata": {},
     "output_type": "execute_result"
    }
   ],
   "source": [
    "isPalindrome(101)"
   ]
  },
  {
   "cell_type": "code",
   "execution_count": 164,
   "id": "973b7eae",
   "metadata": {},
   "outputs": [
    {
     "name": "stdout",
     "output_type": "stream",
     "text": [
      "[(1, 2, 3), (1, 3, 2), (2, 1, 3), (2, 3, 1), (3, 1, 2), (3, 2, 1)]\n"
     ]
    }
   ],
   "source": [
    "from itertools import permutations\n",
    "l = list(permutations(range(1, 4)))\n",
    "print(l)"
   ]
  },
  {
   "cell_type": "code",
   "execution_count": null,
   "id": "265845d6",
   "metadata": {},
   "outputs": [],
   "source": []
  },
  {
   "cell_type": "code",
   "execution_count": null,
   "id": "6d29a238",
   "metadata": {},
   "outputs": [],
   "source": []
  },
  {
   "cell_type": "code",
   "execution_count": null,
   "id": "be9485fe",
   "metadata": {},
   "outputs": [],
   "source": []
  },
  {
   "cell_type": "code",
   "execution_count": null,
   "id": "02cb0d18",
   "metadata": {},
   "outputs": [],
   "source": []
  },
  {
   "cell_type": "code",
   "execution_count": null,
   "id": "d02b033b",
   "metadata": {},
   "outputs": [],
   "source": [
    "0 1 1 2 3 5 8 13 "
   ]
  },
  {
   "cell_type": "code",
   "execution_count": 166,
   "id": "33da4b78",
   "metadata": {},
   "outputs": [],
   "source": [
    "# google >> g : 2 , o : 2 "
   ]
  },
  {
   "cell_type": "code",
   "execution_count": 167,
   "id": "3c35bd29",
   "metadata": {},
   "outputs": [],
   "source": [
    "lst = [\"amit\" , \"learning\" , \"amit\"  , \"sas\"]"
   ]
  },
  {
   "cell_type": "code",
   "execution_count": null,
   "id": "e48296ce",
   "metadata": {},
   "outputs": [],
   "source": [
    "lst = [1,2,3,4,5,3,7] (2,3) , (3,2) \n",
    "n = 5 "
   ]
  },
  {
   "cell_type": "code",
   "execution_count": 168,
   "id": "9de1d283",
   "metadata": {},
   "outputs": [],
   "source": [
    "lst = [1,2,3,4,5,-10 , -20 , 20 ]\n",
    "lst.sort()"
   ]
  },
  {
   "cell_type": "code",
   "execution_count": 169,
   "id": "f398e070",
   "metadata": {},
   "outputs": [
    {
     "data": {
      "text/plain": [
       "[-20, -10, 1, 2, 3, 4, 5, 20]"
      ]
     },
     "execution_count": 169,
     "metadata": {},
     "output_type": "execute_result"
    }
   ],
   "source": [
    "lst"
   ]
  },
  {
   "cell_type": "code",
   "execution_count": 172,
   "id": "7bb6e891",
   "metadata": {},
   "outputs": [],
   "source": [
    "s = \"amit learning\""
   ]
  },
  {
   "cell_type": "code",
   "execution_count": 173,
   "id": "50e30715",
   "metadata": {},
   "outputs": [
    {
     "data": {
      "text/plain": [
       "'gninrael tima'"
      ]
     },
     "execution_count": 173,
     "metadata": {},
     "output_type": "execute_result"
    }
   ],
   "source": [
    "s[: :-1]"
   ]
  },
  {
   "cell_type": "code",
   "execution_count": 181,
   "id": "b35077a5",
   "metadata": {},
   "outputs": [
    {
     "data": {
      "text/plain": [
       "'learning amit'"
      ]
     },
     "execution_count": 181,
     "metadata": {},
     "output_type": "execute_result"
    }
   ],
   "source": [
    "\" \".join(s.split()[::-1])"
   ]
  },
  {
   "cell_type": "code",
   "execution_count": 183,
   "id": "761d56a0",
   "metadata": {},
   "outputs": [],
   "source": [
    "x = s.split()"
   ]
  },
  {
   "cell_type": "code",
   "execution_count": 185,
   "id": "685391a4",
   "metadata": {},
   "outputs": [],
   "source": [
    "x.reverse()"
   ]
  },
  {
   "cell_type": "code",
   "execution_count": 186,
   "id": "ae72a4c4",
   "metadata": {},
   "outputs": [
    {
     "data": {
      "text/plain": [
       "['learning', 'amit']"
      ]
     },
     "execution_count": 186,
     "metadata": {},
     "output_type": "execute_result"
    }
   ],
   "source": [
    "x"
   ]
  },
  {
   "cell_type": "code",
   "execution_count": 187,
   "id": "22e77415",
   "metadata": {},
   "outputs": [
    {
     "data": {
      "text/plain": [
       "'learning amit'"
      ]
     },
     "execution_count": 187,
     "metadata": {},
     "output_type": "execute_result"
    }
   ],
   "source": [
    "' '.join(x)"
   ]
  },
  {
   "cell_type": "code",
   "execution_count": 189,
   "id": "fc354661",
   "metadata": {},
   "outputs": [
    {
     "data": {
      "text/plain": [
       "'121'"
      ]
     },
     "execution_count": 189,
     "metadata": {},
     "output_type": "execute_result"
    }
   ],
   "source": [
    "\n",
    "x = 121\n",
    "str(x)"
   ]
  },
  {
   "cell_type": "code",
   "execution_count": 190,
   "id": "830e100f",
   "metadata": {},
   "outputs": [],
   "source": [
    "# 1 2 3 \n",
    "# 1 2 3 \n",
    "# 1 3 2 \n",
    "# 2 1 3 \n",
    "# 2 3 1 \n"
   ]
  },
  {
   "cell_type": "code",
   "execution_count": 191,
   "id": "53cc174c",
   "metadata": {},
   "outputs": [
    {
     "name": "stdout",
     "output_type": "stream",
     "text": [
      "True\n"
     ]
    }
   ],
   "source": [
    "def name():\n",
    "    def add():\n",
    "        return True \n",
    "    print(add())\n",
    "name()"
   ]
  },
  {
   "cell_type": "code",
   "execution_count": null,
   "id": "c2b5b2fc",
   "metadata": {},
   "outputs": [],
   "source": []
  },
  {
   "cell_type": "code",
   "execution_count": null,
   "id": "e42663ab",
   "metadata": {},
   "outputs": [],
   "source": []
  },
  {
   "cell_type": "code",
   "execution_count": null,
   "id": "576a38aa",
   "metadata": {},
   "outputs": [],
   "source": []
  },
  {
   "cell_type": "code",
   "execution_count": null,
   "id": "be98b0e9",
   "metadata": {},
   "outputs": [],
   "source": []
  },
  {
   "cell_type": "code",
   "execution_count": null,
   "id": "04494d0e",
   "metadata": {},
   "outputs": [],
   "source": []
  },
  {
   "cell_type": "code",
   "execution_count": null,
   "id": "04e62369",
   "metadata": {},
   "outputs": [],
   "source": []
  }
 ],
 "metadata": {
  "kernelspec": {
   "display_name": "Python 3 (ipykernel)",
   "language": "python",
   "name": "python3"
  },
  "language_info": {
   "codemirror_mode": {
    "name": "ipython",
    "version": 3
   },
   "file_extension": ".py",
   "mimetype": "text/x-python",
   "name": "python",
   "nbconvert_exporter": "python",
   "pygments_lexer": "ipython3",
   "version": "3.10.9"
  }
 },
 "nbformat": 4,
 "nbformat_minor": 5
}
